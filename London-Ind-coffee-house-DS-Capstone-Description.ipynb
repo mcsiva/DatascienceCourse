{
 "cells": [
  {
   "cell_type": "markdown",
   "metadata": {},
   "source": [
    "### Battle of the Neighborhoods - Week 1\n",
    "\n",
    "### London - Indian Coffee House - Business viability\n",
    "\n",
    "### Introduction - London City\n",
    "####  *   London is the capital and largest city of England and the United Kingdom.The city stands on the River Thames in the south-east of England, at the head of its 50-mile (80 km) estuary leading to the North Sea. \n",
    "####  *   London has been a major settlement for two millennia, and was originally called Londinium, which was founded by the Romans. The City of London, London's ancient core and financial centre—an area of just 1.12 square miles (2.9 km2) and colloquially known as the Square Mile—retains boundaries that closely follow its medieval limits\n",
    "#### * London's gross regional product in 2018 was almost £500 billion, around a quarter of UK GDP. London has five major business districts: the city, Westminster, Canary Wharf, Camden & Islington and Lambeth & Southwark\n",
    "####  *   London has a diverse range of people and cultures, and more than 300 languages are spoken in the region.\n",
    "#### *   British Indians form the largest ethno-national group in London with a population of around 542,857 or 6.6% of the population. The majority are concentrated in West London, though populations can be found throughout London.\n",
    "\n",
    "### Major Coffee Houses in London:\n",
    "#### * As per CNN Traveller below are some of the best coffee houses in London:\n",
    "#### * https://www.cntraveller.com/gallery/best-coffee-in-london\n",
    "##### They include: MONMOUTH COFFEE COMPANY - COVENT GARDEN; ORIGIN - SHOREDITCH; ORIGIN, SHOREDITCH; FLYING HORSE-COFFEE AT MARE STREET MARKET\n",
    "\n",
    "### Problem Description\n",
    "\n",
    "#### * For Indian Coffee house Business to survive and Grow, we need to analyse below points to decide on the location:\n",
    "####  *   -Indian population distribution in London based on demogrphic maps\n",
    "####  *   -to explore Restaurants, coffee shops in those neighborhoods\n",
    "####  *   -The Indian/Asian restaurants count and locations in those neighborhoods\n",
    "\n",
    "### Target audience\n",
    "\n",
    "#### * ABC Inc., have given the activity to me as Lead Datascientist for exploring and finding the best location in East London to open a new Coffee Shop that is based on Indian food/culture\n",
    "\n",
    "### Success criteria\n",
    "#### *  To find the best location for Indian Coffee Shop to be opened in East London based on lack of similar restaurants/shops in the neighborhood and proximity from similar shops in other neighborhoods.\n",
    "\n",
    "### Data Collection:\n",
    "##### We will be using various datasets from below data sources for achieving the above success criteria:\n",
    "#### * Datasource1: *Wikipedia* \n",
    "##### - source for population numbers and density based on Ethinicity \n",
    "##### - postal codes for each of the neighborhoods in each location\n",
    "\n",
    "#### * Datasource2: *FourSquare*\n",
    "##### - App containing various venues and details at each neighborhood in each of the locations - API that retrieves several details to get each information based on request sent\n",
    "\n",
    "#### * Datasource3: *PGEOCODE* - python library\n",
    "##### - Python library that retrieves Lat Longs for each of the postcodes - which in turn can be sent to Foursquare for data collection\n"
   ]
  },
  {
   "cell_type": "markdown",
   "metadata": {},
   "source": [
    "### Cluster 4 "
   ]
  },
  {
   "cell_type": "code",
   "execution_count": 124,
   "metadata": {},
   "outputs": [
    {
     "data": {
      "text/html": [
       "<div>\n",
       "<style scoped>\n",
       "    .dataframe tbody tr th:only-of-type {\n",
       "        vertical-align: middle;\n",
       "    }\n",
       "\n",
       "    .dataframe tbody tr th {\n",
       "        vertical-align: top;\n",
       "    }\n",
       "\n",
       "    .dataframe thead th {\n",
       "        text-align: right;\n",
       "    }\n",
       "</style>\n",
       "<table border=\"1\" class=\"dataframe\">\n",
       "  <thead>\n",
       "    <tr style=\"text-align: right;\">\n",
       "      <th></th>\n",
       "      <th>Neighborhood</th>\n",
       "      <th>Cluster Labels</th>\n",
       "      <th>1st Most Common Venue</th>\n",
       "      <th>2nd Most Common Venue</th>\n",
       "      <th>3rd Most Common Venue</th>\n",
       "      <th>4th Most Common Venue</th>\n",
       "      <th>5th Most Common Venue</th>\n",
       "    </tr>\n",
       "  </thead>\n",
       "  <tbody>\n",
       "    <tr>\n",
       "      <th>284</th>\n",
       "      <td>Manor Park, Little Ilford, Aldersbrook</td>\n",
       "      <td>3</td>\n",
       "      <td>Pub</td>\n",
       "      <td>Restaurant</td>\n",
       "      <td>Turkish Restaurant</td>\n",
       "      <td>Asian Restaurant</td>\n",
       "      <td>Dive Bar</td>\n",
       "    </tr>\n",
       "    <tr>\n",
       "      <th>285</th>\n",
       "      <td>Manor Park, Little Ilford, Aldersbrook</td>\n",
       "      <td>3</td>\n",
       "      <td>Pub</td>\n",
       "      <td>Restaurant</td>\n",
       "      <td>Turkish Restaurant</td>\n",
       "      <td>Asian Restaurant</td>\n",
       "      <td>Dive Bar</td>\n",
       "    </tr>\n",
       "    <tr>\n",
       "      <th>286</th>\n",
       "      <td>Manor Park, Little Ilford, Aldersbrook</td>\n",
       "      <td>3</td>\n",
       "      <td>Pub</td>\n",
       "      <td>Restaurant</td>\n",
       "      <td>Turkish Restaurant</td>\n",
       "      <td>Asian Restaurant</td>\n",
       "      <td>Dive Bar</td>\n",
       "    </tr>\n",
       "    <tr>\n",
       "      <th>287</th>\n",
       "      <td>Manor Park, Little Ilford, Aldersbrook</td>\n",
       "      <td>3</td>\n",
       "      <td>Pub</td>\n",
       "      <td>Restaurant</td>\n",
       "      <td>Turkish Restaurant</td>\n",
       "      <td>Asian Restaurant</td>\n",
       "      <td>Dive Bar</td>\n",
       "    </tr>\n",
       "  </tbody>\n",
       "</table>\n",
       "</div>"
      ],
      "text/plain": [
       "                               Neighborhood  Cluster Labels  \\\n",
       "284  Manor Park, Little Ilford, Aldersbrook               3   \n",
       "285  Manor Park, Little Ilford, Aldersbrook               3   \n",
       "286  Manor Park, Little Ilford, Aldersbrook               3   \n",
       "287  Manor Park, Little Ilford, Aldersbrook               3   \n",
       "\n",
       "    1st Most Common Venue 2nd Most Common Venue 3rd Most Common Venue  \\\n",
       "284                   Pub            Restaurant    Turkish Restaurant   \n",
       "285                   Pub            Restaurant    Turkish Restaurant   \n",
       "286                   Pub            Restaurant    Turkish Restaurant   \n",
       "287                   Pub            Restaurant    Turkish Restaurant   \n",
       "\n",
       "    4th Most Common Venue 5th Most Common Venue  \n",
       "284      Asian Restaurant              Dive Bar  \n",
       "285      Asian Restaurant              Dive Bar  \n",
       "286      Asian Restaurant              Dive Bar  \n",
       "287      Asian Restaurant              Dive Bar  "
      ]
     },
     "execution_count": 124,
     "metadata": {},
     "output_type": "execute_result"
    }
   ],
   "source": [
    "st_cluster4 = strat_merged.loc[strat_merged['Cluster Labels'] == 3, strat_merged.columns[[0] + list(range(8, 14))]]\n",
    "st_cluster4.head()"
   ]
  },
  {
   "cell_type": "code",
   "execution_count": 125,
   "metadata": {},
   "outputs": [
    {
     "data": {
      "image/png": "[encoded data removed]",
      "text/plain": [
       "<Figure size 720x504 with 1 Axes>"
      ]
     },
     "metadata": {
      "needs_background": "light"
     },
     "output_type": "display_data"
    },
    {
     "data": {
      "image/png": "[encoded data removed]",
      "text/plain": [
       "<Figure size 720x504 with 1 Axes>"
      ]
     },
     "metadata": {
      "needs_background": "light"
     },
     "output_type": "display_data"
    },
    {
     "data": {
      "image/png": "[encoded data removed]",
      "text/plain": [
       "<Figure size 720x504 with 1 Axes>"
      ]
     },
     "metadata": {
      "needs_background": "light"
     },
     "output_type": "display_data"
    },
    {
     "data": {
      "image/png": "[encoded data removed]",
      "text/plain": [
       "<Figure size 720x504 with 1 Axes>"
      ]
     },
     "metadata": {
      "needs_background": "light"
     },
     "output_type": "display_data"
    },
    {
     "data": {
      "image/png": "[encoded data removed]",
      "text/plain": [
       "<Figure size 720x504 with 1 Axes>"
      ]
     },
     "metadata": {
      "needs_background": "light"
     },
     "output_type": "display_data"
    },
    {
     "data": {
      "text/plain": [
       "(array([0. , 0.2, 0.4, 0.6, 0.8, 1. ]),\n",
       " [Text(0, 0, ''),\n",
       "  Text(0, 0, ''),\n",
       "  Text(0, 0, ''),\n",
       "  Text(0, 0, ''),\n",
       "  Text(0, 0, ''),\n",
       "  Text(0, 0, '')])"
      ]
     },
     "execution_count": 125,
     "metadata": {},
     "output_type": "execute_result"
    },
    {
     "data": {
      "image/png": "[encoded data removed]",
      "text/plain": [
       "<Figure size 432x288 with 1 Axes>"
      ]
     },
     "metadata": {
      "needs_background": "light"
     },
     "output_type": "display_data"
    }
   ],
   "source": [
    "dpi = 200\n",
    "\n",
    "for h in range(2, 7):\n",
    "    plt.figure(figsize = (10,7))\n",
    "    sns.countplot(data = st_cluster4, x = st_cluster4.iloc[:, h] )\n",
    "\n",
    "plt.show()\n",
    "plt.xticks(rotation = 90)"
   ]
  },
  {
   "cell_type": "markdown",
   "metadata": {},
   "source": [
    "### Cluster 4 - analysis\n",
    "* #### The cluster 4 neighborhood includes Manorpark, Little Ilford, Alders Brook\n",
    "* #### This neighborhood has these venues in the **Top 5: Pub, Restaurant, Turkish, Asian restaurant, Dive bar**"
   ]
  },
  {
   "cell_type": "markdown",
   "metadata": {},
   "source": [
    "### Cluster 5 - analysis"
   ]
  },
  {
   "cell_type": "code",
   "execution_count": 103,
   "metadata": {},
   "outputs": [
    {
     "data": {
      "text/html": [
       "<div>\n",
       "<style scoped>\n",
       "    .dataframe tbody tr th:only-of-type {\n",
       "        vertical-align: middle;\n",
       "    }\n",
       "\n",
       "    .dataframe tbody tr th {\n",
       "        vertical-align: top;\n",
       "    }\n",
       "\n",
       "    .dataframe thead th {\n",
       "        text-align: right;\n",
       "    }\n",
       "</style>\n",
       "<table border=\"1\" class=\"dataframe\">\n",
       "  <thead>\n",
       "    <tr style=\"text-align: right;\">\n",
       "      <th></th>\n",
       "      <th>Neighborhood</th>\n",
       "      <th>Cluster Labels</th>\n",
       "      <th>1st Most Common Venue</th>\n",
       "      <th>2nd Most Common Venue</th>\n",
       "      <th>3rd Most Common Venue</th>\n",
       "      <th>4th Most Common Venue</th>\n",
       "      <th>5th Most Common Venue</th>\n",
       "      <th>6th Most Common Venue</th>\n",
       "      <th>7th Most Common Venue</th>\n",
       "      <th>8th Most Common Venue</th>\n",
       "      <th>9th Most Common Venue</th>\n",
       "      <th>10th Most Common Venue</th>\n",
       "    </tr>\n",
       "  </thead>\n",
       "  <tbody>\n",
       "    <tr>\n",
       "      <th>101</th>\n",
       "      <td>Mile End, Old Ford, Devons Road, Bow Road, Bow...</td>\n",
       "      <td>4</td>\n",
       "      <td>Pub</td>\n",
       "      <td>Bus Stop</td>\n",
       "      <td>Platform</td>\n",
       "      <td>Road</td>\n",
       "      <td>Burger Joint</td>\n",
       "      <td>Breakfast Spot</td>\n",
       "      <td>Light Rail Station</td>\n",
       "      <td>Bar</td>\n",
       "      <td>Chinese Restaurant</td>\n",
       "      <td>Metro Station</td>\n",
       "    </tr>\n",
       "    <tr>\n",
       "      <th>102</th>\n",
       "      <td>Mile End, Old Ford, Devons Road, Bow Road, Bow...</td>\n",
       "      <td>4</td>\n",
       "      <td>Pub</td>\n",
       "      <td>Bus Stop</td>\n",
       "      <td>Platform</td>\n",
       "      <td>Road</td>\n",
       "      <td>Burger Joint</td>\n",
       "      <td>Breakfast Spot</td>\n",
       "      <td>Light Rail Station</td>\n",
       "      <td>Bar</td>\n",
       "      <td>Chinese Restaurant</td>\n",
       "      <td>Metro Station</td>\n",
       "    </tr>\n",
       "    <tr>\n",
       "      <th>103</th>\n",
       "      <td>Mile End, Old Ford, Devons Road, Bow Road, Bow...</td>\n",
       "      <td>4</td>\n",
       "      <td>Pub</td>\n",
       "      <td>Bus Stop</td>\n",
       "      <td>Platform</td>\n",
       "      <td>Road</td>\n",
       "      <td>Burger Joint</td>\n",
       "      <td>Breakfast Spot</td>\n",
       "      <td>Light Rail Station</td>\n",
       "      <td>Bar</td>\n",
       "      <td>Chinese Restaurant</td>\n",
       "      <td>Metro Station</td>\n",
       "    </tr>\n",
       "    <tr>\n",
       "      <th>104</th>\n",
       "      <td>Mile End, Old Ford, Devons Road, Bow Road, Bow...</td>\n",
       "      <td>4</td>\n",
       "      <td>Pub</td>\n",
       "      <td>Bus Stop</td>\n",
       "      <td>Platform</td>\n",
       "      <td>Road</td>\n",
       "      <td>Burger Joint</td>\n",
       "      <td>Breakfast Spot</td>\n",
       "      <td>Light Rail Station</td>\n",
       "      <td>Bar</td>\n",
       "      <td>Chinese Restaurant</td>\n",
       "      <td>Metro Station</td>\n",
       "    </tr>\n",
       "    <tr>\n",
       "      <th>105</th>\n",
       "      <td>Mile End, Old Ford, Devons Road, Bow Road, Bow...</td>\n",
       "      <td>4</td>\n",
       "      <td>Pub</td>\n",
       "      <td>Bus Stop</td>\n",
       "      <td>Platform</td>\n",
       "      <td>Road</td>\n",
       "      <td>Burger Joint</td>\n",
       "      <td>Breakfast Spot</td>\n",
       "      <td>Light Rail Station</td>\n",
       "      <td>Bar</td>\n",
       "      <td>Chinese Restaurant</td>\n",
       "      <td>Metro Station</td>\n",
       "    </tr>\n",
       "  </tbody>\n",
       "</table>\n",
       "</div>"
      ],
      "text/plain": [
       "                                          Neighborhood  Cluster Labels  \\\n",
       "101  Mile End, Old Ford, Devons Road, Bow Road, Bow...               4   \n",
       "102  Mile End, Old Ford, Devons Road, Bow Road, Bow...               4   \n",
       "103  Mile End, Old Ford, Devons Road, Bow Road, Bow...               4   \n",
       "104  Mile End, Old Ford, Devons Road, Bow Road, Bow...               4   \n",
       "105  Mile End, Old Ford, Devons Road, Bow Road, Bow...               4   \n",
       "\n",
       "    1st Most Common Venue 2nd Most Common Venue 3rd Most Common Venue  \\\n",
       "101                   Pub              Bus Stop              Platform   \n",
       "102                   Pub              Bus Stop              Platform   \n",
       "103                   Pub              Bus Stop              Platform   \n",
       "104                   Pub              Bus Stop              Platform   \n",
       "105                   Pub              Bus Stop              Platform   \n",
       "\n",
       "    4th Most Common Venue 5th Most Common Venue 6th Most Common Venue  \\\n",
       "101                  Road          Burger Joint        Breakfast Spot   \n",
       "102                  Road          Burger Joint        Breakfast Spot   \n",
       "103                  Road          Burger Joint        Breakfast Spot   \n",
       "104                  Road          Burger Joint        Breakfast Spot   \n",
       "105                  Road          Burger Joint        Breakfast Spot   \n",
       "\n",
       "    7th Most Common Venue 8th Most Common Venue 9th Most Common Venue  \\\n",
       "101    Light Rail Station                   Bar    Chinese Restaurant   \n",
       "102    Light Rail Station                   Bar    Chinese Restaurant   \n",
       "103    Light Rail Station                   Bar    Chinese Restaurant   \n",
       "104    Light Rail Station                   Bar    Chinese Restaurant   \n",
       "105    Light Rail Station                   Bar    Chinese Restaurant   \n",
       "\n",
       "    10th Most Common Venue  \n",
       "101          Metro Station  \n",
       "102          Metro Station  \n",
       "103          Metro Station  \n",
       "104          Metro Station  \n",
       "105          Metro Station  "
      ]
     },
     "execution_count": 103,
     "metadata": {},
     "output_type": "execute_result"
    }
   ],
   "source": [
    "st_cluster5 = strat_merged.loc[strat_merged['Cluster Labels'] == 4, strat_merged.columns[[0] + list(range(8, 19))]]\n",
    "st_cluster5.head()"
   ]
  },
  {
   "cell_type": "markdown",
   "metadata": {},
   "source": [
    "#### We will remove venues other than dining "
   ]
  },
  {
   "cell_type": "code",
   "execution_count": 126,
   "metadata": {},
   "outputs": [],
   "source": [
    "st_cluster5.drop(['2nd Most Common Venue', '3rd Most Common Venue','4th Most Common Venue', '7th Most Common Venue','10th Most Common Venue'], axis = 1, inplace = True)"
   ]
  },
  {
   "cell_type": "code",
   "execution_count": 127,
   "metadata": {},
   "outputs": [
    {
     "data": {
      "text/html": [
       "<div>\n",
       "<style scoped>\n",
       "    .dataframe tbody tr th:only-of-type {\n",
       "        vertical-align: middle;\n",
       "    }\n",
       "\n",
       "    .dataframe tbody tr th {\n",
       "        vertical-align: top;\n",
       "    }\n",
       "\n",
       "    .dataframe thead th {\n",
       "        text-align: right;\n",
       "    }\n",
       "</style>\n",
       "<table border=\"1\" class=\"dataframe\">\n",
       "  <thead>\n",
       "    <tr style=\"text-align: right;\">\n",
       "      <th></th>\n",
       "      <th>Neighborhood</th>\n",
       "      <th>Cluster Labels</th>\n",
       "      <th>1st Most Common Venue</th>\n",
       "      <th>5th Most Common Venue</th>\n",
       "      <th>6th Most Common Venue</th>\n",
       "      <th>8th Most Common Venue</th>\n",
       "      <th>9th Most Common Venue</th>\n",
       "    </tr>\n",
       "  </thead>\n",
       "  <tbody>\n",
       "    <tr>\n",
       "      <th>101</th>\n",
       "      <td>Mile End, Old Ford, Devons Road, Bow Road, Bow...</td>\n",
       "      <td>4</td>\n",
       "      <td>Pub</td>\n",
       "      <td>Burger Joint</td>\n",
       "      <td>Breakfast Spot</td>\n",
       "      <td>Bar</td>\n",
       "      <td>Chinese Restaurant</td>\n",
       "    </tr>\n",
       "    <tr>\n",
       "      <th>102</th>\n",
       "      <td>Mile End, Old Ford, Devons Road, Bow Road, Bow...</td>\n",
       "      <td>4</td>\n",
       "      <td>Pub</td>\n",
       "      <td>Burger Joint</td>\n",
       "      <td>Breakfast Spot</td>\n",
       "      <td>Bar</td>\n",
       "      <td>Chinese Restaurant</td>\n",
       "    </tr>\n",
       "    <tr>\n",
       "      <th>103</th>\n",
       "      <td>Mile End, Old Ford, Devons Road, Bow Road, Bow...</td>\n",
       "      <td>4</td>\n",
       "      <td>Pub</td>\n",
       "      <td>Burger Joint</td>\n",
       "      <td>Breakfast Spot</td>\n",
       "      <td>Bar</td>\n",
       "      <td>Chinese Restaurant</td>\n",
       "    </tr>\n",
       "    <tr>\n",
       "      <th>104</th>\n",
       "      <td>Mile End, Old Ford, Devons Road, Bow Road, Bow...</td>\n",
       "      <td>4</td>\n",
       "      <td>Pub</td>\n",
       "      <td>Burger Joint</td>\n",
       "      <td>Breakfast Spot</td>\n",
       "      <td>Bar</td>\n",
       "      <td>Chinese Restaurant</td>\n",
       "    </tr>\n",
       "    <tr>\n",
       "      <th>105</th>\n",
       "      <td>Mile End, Old Ford, Devons Road, Bow Road, Bow...</td>\n",
       "      <td>4</td>\n",
       "      <td>Pub</td>\n",
       "      <td>Burger Joint</td>\n",
       "      <td>Breakfast Spot</td>\n",
       "      <td>Bar</td>\n",
       "      <td>Chinese Restaurant</td>\n",
       "    </tr>\n",
       "  </tbody>\n",
       "</table>\n",
       "</div>"
      ],
      "text/plain": [
       "                                          Neighborhood  Cluster Labels  \\\n",
       "101  Mile End, Old Ford, Devons Road, Bow Road, Bow...               4   \n",
       "102  Mile End, Old Ford, Devons Road, Bow Road, Bow...               4   \n",
       "103  Mile End, Old Ford, Devons Road, Bow Road, Bow...               4   \n",
       "104  Mile End, Old Ford, Devons Road, Bow Road, Bow...               4   \n",
       "105  Mile End, Old Ford, Devons Road, Bow Road, Bow...               4   \n",
       "\n",
       "    1st Most Common Venue 5th Most Common Venue 6th Most Common Venue  \\\n",
       "101                   Pub          Burger Joint        Breakfast Spot   \n",
       "102                   Pub          Burger Joint        Breakfast Spot   \n",
       "103                   Pub          Burger Joint        Breakfast Spot   \n",
       "104                   Pub          Burger Joint        Breakfast Spot   \n",
       "105                   Pub          Burger Joint        Breakfast Spot   \n",
       "\n",
       "    8th Most Common Venue 9th Most Common Venue  \n",
       "101                   Bar    Chinese Restaurant  \n",
       "102                   Bar    Chinese Restaurant  \n",
       "103                   Bar    Chinese Restaurant  \n",
       "104                   Bar    Chinese Restaurant  \n",
       "105                   Bar    Chinese Restaurant  "
      ]
     },
     "execution_count": 127,
     "metadata": {},
     "output_type": "execute_result"
    }
   ],
   "source": [
    "st_cluster5.head()"
   ]
  },
  {
   "cell_type": "code",
   "execution_count": 101,
   "metadata": {},
   "outputs": [
    {
     "data": {
      "image/png": "[encoded data removed]",
      "text/plain": [
       "<Figure size 720x504 with 1 Axes>"
      ]
     },
     "metadata": {
      "needs_background": "light"
     },
     "output_type": "display_data"
    },
    {
     "data": {
      "image/png": "[encoded data removed]",
      "text/plain": [
       "<Figure size 720x504 with 1 Axes>"
      ]
     },
     "metadata": {
      "needs_background": "light"
     },
     "output_type": "display_data"
    },
    {
     "data": {
      "image/png": "[encoded data removed]",
      "text/plain": [
       "<Figure size 720x504 with 1 Axes>"
      ]
     },
     "metadata": {
      "needs_background": "light"
     },
     "output_type": "display_data"
    },
    {
     "data": {
      "image/png": "[encoded data removed]",
      "text/plain": [
       "<Figure size 720x504 with 1 Axes>"
      ]
     },
     "metadata": {
      "needs_background": "light"
     },
     "output_type": "display_data"
    },
    {
     "data": {
      "image/png": "[encoded data removed]",
      "text/plain": [
       "<Figure size 720x504 with 1 Axes>"
      ]
     },
     "metadata": {
      "needs_background": "light"
     },
     "output_type": "display_data"
    },
    {
     "data": {
      "text/plain": [
       "(array([0. , 0.2, 0.4, 0.6, 0.8, 1. ]),\n",
       " [Text(0, 0, ''),\n",
       "  Text(0, 0, ''),\n",
       "  Text(0, 0, ''),\n",
       "  Text(0, 0, ''),\n",
       "  Text(0, 0, ''),\n",
       "  Text(0, 0, '')])"
      ]
     },
     "execution_count": 101,
     "metadata": {},
     "output_type": "execute_result"
    },
    {
     "data": {
      "image/png": "[encoded data removed]",
      "text/plain": [
       "<Figure size 432x288 with 1 Axes>"
      ]
     },
     "metadata": {
      "needs_background": "light"
     },
     "output_type": "display_data"
    }
   ],
   "source": [
    "dpi = 200\n",
    "\n",
    "for h in range(2, 7):\n",
    "    plt.figure(figsize = (10,7))\n",
    "    sns.countplot(data = st_cluster5, x = st_cluster5.iloc[:, h] )\n",
    "\n",
    "plt.show()\n",
    "plt.xticks(rotation = 90)"
   ]
  },
  {
   "cell_type": "markdown",
   "metadata": {},
   "source": [
    "### Cluster 5 - analysis\n",
    "* #### The cluster 5 neighborhood includes Mile End, Old Ford, Devons Road, Bow Road\n",
    "* #### This neighborhood has these venues in the **Top 5: Pub, Burger Joint, Breakfast Spot, Bar, Chinese Restaurant**"
   ]
  },
  {
   "cell_type": "markdown",
   "metadata": {},
   "source": [
    "### ***Location of Indian Cofee House Business details:***\n",
    "* #### From above cluster analysis we can infer that,  only **cluster 2** have **cofee shop/ Cafe** in the Top5 as common avenue in locations: Hackney, Bethnal Green, Tower Hamlets, Haggerston, East Ham, Beckton, Cyprus\n",
    "\n",
    "* #### cluster locations which contain **Indian Restaurants** are: **Cluster1** - Whitechapel, Rotherhithe, Snaresbrook, Wanstead, Cubitt Town, Canary Wharf, Stratford\n",
    "\n",
    "* #### Cluster locations having **Fastfood corner** in them are: **Cluster 3** - Upperclapton, Clapton park, Hackney Marshes\n",
    "\n",
    "* #### **Cluster 4** has **Asian Restaurants** in locations: Manorpark, Little Ilford, Alders Brook\n",
    "\n",
    "* #### From above analysis on each cluster data - *we can conclude* on the **Location of the New Indian Coffee house as Cluster 5** in one of the neighborhoods below:\n",
    "\n",
    "* #### **Mile End**\n",
    "* #### **Old Ford**\n",
    "* #### **Devons Road**\n",
    "* #### **Bow Road**"
   ]
  },
  {
   "cell_type": "code",
   "execution_count": 130,
   "metadata": {},
   "outputs": [
    {
     "data": {
      "text/html": [
       "<div>\n",
       "<style scoped>\n",
       "    .dataframe tbody tr th:only-of-type {\n",
       "        vertical-align: middle;\n",
       "    }\n",
       "\n",
       "    .dataframe tbody tr th {\n",
       "        vertical-align: top;\n",
       "    }\n",
       "\n",
       "    .dataframe thead th {\n",
       "        text-align: right;\n",
       "    }\n",
       "</style>\n",
       "<table border=\"1\" class=\"dataframe\">\n",
       "  <thead>\n",
       "    <tr style=\"text-align: right;\">\n",
       "      <th></th>\n",
       "      <th>Neighborhood</th>\n",
       "      <th>Neighborhood Latitude</th>\n",
       "      <th>Neighborhood Longitude</th>\n",
       "      <th>Venue ID</th>\n",
       "      <th>Venue</th>\n",
       "      <th>Venue Latitude</th>\n",
       "      <th>Venue Longitude</th>\n",
       "      <th>Venue Category</th>\n",
       "      <th>Cluster Labels</th>\n",
       "      <th>1st Most Common Venue</th>\n",
       "      <th>2nd Most Common Venue</th>\n",
       "      <th>3rd Most Common Venue</th>\n",
       "      <th>4th Most Common Venue</th>\n",
       "      <th>5th Most Common Venue</th>\n",
       "      <th>6th Most Common Venue</th>\n",
       "      <th>7th Most Common Venue</th>\n",
       "      <th>8th Most Common Venue</th>\n",
       "      <th>9th Most Common Venue</th>\n",
       "      <th>10th Most Common Venue</th>\n",
       "    </tr>\n",
       "  </thead>\n",
       "  <tbody>\n",
       "    <tr>\n",
       "      <th>101</th>\n",
       "      <td>Mile End, Old Ford, Devons Road, Bow Road, Bow...</td>\n",
       "      <td>51.525</td>\n",
       "      <td>-0.026571</td>\n",
       "      <td>4ad9e432f964a520a31b21e3</td>\n",
       "      <td>The Coborn</td>\n",
       "      <td>51.526932</td>\n",
       "      <td>-0.030085</td>\n",
       "      <td>Pub</td>\n",
       "      <td>4</td>\n",
       "      <td>Pub</td>\n",
       "      <td>Bus Stop</td>\n",
       "      <td>Platform</td>\n",
       "      <td>Road</td>\n",
       "      <td>Burger Joint</td>\n",
       "      <td>Breakfast Spot</td>\n",
       "      <td>Light Rail Station</td>\n",
       "      <td>Bar</td>\n",
       "      <td>Chinese Restaurant</td>\n",
       "      <td>Metro Station</td>\n",
       "    </tr>\n",
       "    <tr>\n",
       "      <th>102</th>\n",
       "      <td>Mile End, Old Ford, Devons Road, Bow Road, Bow...</td>\n",
       "      <td>51.525</td>\n",
       "      <td>-0.026571</td>\n",
       "      <td>4ac518c3f964a52024a420e3</td>\n",
       "      <td>The Morgan Arms</td>\n",
       "      <td>51.527908</td>\n",
       "      <td>-0.030935</td>\n",
       "      <td>Bar</td>\n",
       "      <td>4</td>\n",
       "      <td>Pub</td>\n",
       "      <td>Bus Stop</td>\n",
       "      <td>Platform</td>\n",
       "      <td>Road</td>\n",
       "      <td>Burger Joint</td>\n",
       "      <td>Breakfast Spot</td>\n",
       "      <td>Light Rail Station</td>\n",
       "      <td>Bar</td>\n",
       "      <td>Chinese Restaurant</td>\n",
       "      <td>Metro Station</td>\n",
       "    </tr>\n",
       "    <tr>\n",
       "      <th>103</th>\n",
       "      <td>Mile End, Old Ford, Devons Road, Bow Road, Bow...</td>\n",
       "      <td>51.525</td>\n",
       "      <td>-0.026571</td>\n",
       "      <td>5769a02538faed0583028f43</td>\n",
       "      <td>Rusty Bike Pub</td>\n",
       "      <td>51.525351</td>\n",
       "      <td>-0.032734</td>\n",
       "      <td>Pub</td>\n",
       "      <td>4</td>\n",
       "      <td>Pub</td>\n",
       "      <td>Bus Stop</td>\n",
       "      <td>Platform</td>\n",
       "      <td>Road</td>\n",
       "      <td>Burger Joint</td>\n",
       "      <td>Breakfast Spot</td>\n",
       "      <td>Light Rail Station</td>\n",
       "      <td>Bar</td>\n",
       "      <td>Chinese Restaurant</td>\n",
       "      <td>Metro Station</td>\n",
       "    </tr>\n",
       "    <tr>\n",
       "      <th>104</th>\n",
       "      <td>Mile End, Old Ford, Devons Road, Bow Road, Bow...</td>\n",
       "      <td>51.525</td>\n",
       "      <td>-0.026571</td>\n",
       "      <td>4dffd1abc65b4967500146ea</td>\n",
       "      <td>Original Taste</td>\n",
       "      <td>51.527710</td>\n",
       "      <td>-0.022485</td>\n",
       "      <td>Burger Joint</td>\n",
       "      <td>4</td>\n",
       "      <td>Pub</td>\n",
       "      <td>Bus Stop</td>\n",
       "      <td>Platform</td>\n",
       "      <td>Road</td>\n",
       "      <td>Burger Joint</td>\n",
       "      <td>Breakfast Spot</td>\n",
       "      <td>Light Rail Station</td>\n",
       "      <td>Bar</td>\n",
       "      <td>Chinese Restaurant</td>\n",
       "      <td>Metro Station</td>\n",
       "    </tr>\n",
       "    <tr>\n",
       "      <th>105</th>\n",
       "      <td>Mile End, Old Ford, Devons Road, Bow Road, Bow...</td>\n",
       "      <td>51.525</td>\n",
       "      <td>-0.026571</td>\n",
       "      <td>4c07ac0f8a81c9b6b98a2790</td>\n",
       "      <td>Little Driver</td>\n",
       "      <td>51.527766</td>\n",
       "      <td>-0.022212</td>\n",
       "      <td>Pub</td>\n",
       "      <td>4</td>\n",
       "      <td>Pub</td>\n",
       "      <td>Bus Stop</td>\n",
       "      <td>Platform</td>\n",
       "      <td>Road</td>\n",
       "      <td>Burger Joint</td>\n",
       "      <td>Breakfast Spot</td>\n",
       "      <td>Light Rail Station</td>\n",
       "      <td>Bar</td>\n",
       "      <td>Chinese Restaurant</td>\n",
       "      <td>Metro Station</td>\n",
       "    </tr>\n",
       "  </tbody>\n",
       "</table>\n",
       "</div>"
      ],
      "text/plain": [
       "                                          Neighborhood  Neighborhood Latitude  \\\n",
       "101  Mile End, Old Ford, Devons Road, Bow Road, Bow...                 51.525   \n",
       "102  Mile End, Old Ford, Devons Road, Bow Road, Bow...                 51.525   \n",
       "103  Mile End, Old Ford, Devons Road, Bow Road, Bow...                 51.525   \n",
       "104  Mile End, Old Ford, Devons Road, Bow Road, Bow...                 51.525   \n",
       "105  Mile End, Old Ford, Devons Road, Bow Road, Bow...                 51.525   \n",
       "\n",
       "     Neighborhood Longitude                  Venue ID            Venue  \\\n",
       "101               -0.026571  4ad9e432f964a520a31b21e3       The Coborn   \n",
       "102               -0.026571  4ac518c3f964a52024a420e3  The Morgan Arms   \n",
       "103               -0.026571  5769a02538faed0583028f43   Rusty Bike Pub   \n",
       "104               -0.026571  4dffd1abc65b4967500146ea   Original Taste   \n",
       "105               -0.026571  4c07ac0f8a81c9b6b98a2790    Little Driver   \n",
       "\n",
       "     Venue Latitude  Venue Longitude Venue Category  Cluster Labels  \\\n",
       "101       51.526932        -0.030085            Pub               4   \n",
       "102       51.527908        -0.030935            Bar               4   \n",
       "103       51.525351        -0.032734            Pub               4   \n",
       "104       51.527710        -0.022485   Burger Joint               4   \n",
       "105       51.527766        -0.022212            Pub               4   \n",
       "\n",
       "    1st Most Common Venue 2nd Most Common Venue 3rd Most Common Venue  \\\n",
       "101                   Pub              Bus Stop              Platform   \n",
       "102                   Pub              Bus Stop              Platform   \n",
       "103                   Pub              Bus Stop              Platform   \n",
       "104                   Pub              Bus Stop              Platform   \n",
       "105                   Pub              Bus Stop              Platform   \n",
       "\n",
       "    4th Most Common Venue 5th Most Common Venue 6th Most Common Venue  \\\n",
       "101                  Road          Burger Joint        Breakfast Spot   \n",
       "102                  Road          Burger Joint        Breakfast Spot   \n",
       "103                  Road          Burger Joint        Breakfast Spot   \n",
       "104                  Road          Burger Joint        Breakfast Spot   \n",
       "105                  Road          Burger Joint        Breakfast Spot   \n",
       "\n",
       "    7th Most Common Venue 8th Most Common Venue 9th Most Common Venue  \\\n",
       "101    Light Rail Station                   Bar    Chinese Restaurant   \n",
       "102    Light Rail Station                   Bar    Chinese Restaurant   \n",
       "103    Light Rail Station                   Bar    Chinese Restaurant   \n",
       "104    Light Rail Station                   Bar    Chinese Restaurant   \n",
       "105    Light Rail Station                   Bar    Chinese Restaurant   \n",
       "\n",
       "    10th Most Common Venue  \n",
       "101          Metro Station  \n",
       "102          Metro Station  \n",
       "103          Metro Station  \n",
       "104          Metro Station  \n",
       "105          Metro Station  "
      ]
     },
     "execution_count": 130,
     "metadata": {},
     "output_type": "execute_result"
    }
   ],
   "source": [
    "strat_merged_cl5 = strat_merged[strat_merged['Cluster Labels']==4]\n",
    "strat_merged_cl5.head()"
   ]
  },
  {
   "cell_type": "code",
   "execution_count": 131,
   "metadata": {},
   "outputs": [
    {
     "data": {
      "text/html": [
       "<div style=\"width:100%;\"><div style=\"position:relative;width:100%;height:0;padding-bottom:60%;\"><span style=\"color:#565656\">Make this Notebook Trusted to load map: File -> Trust Notebook</span><iframe src=\"about:blank\" style=\"position:absolute;width:100%;height:100%;left:0;top:0;border:none !important;\" data-html=%3C%21DOCTYPE%20html%3E%0A%3Chead%3E%20%20%20%20%0A%20%20%20%20%3Cmeta%20http-equiv%3D%22content-type%22%20content%3D%22text/html%3B%20charset%3DUTF-8%22%20/%3E%0A%20%20%20%20%3Cscript%3EL_PREFER_CANVAS%20%3D%20false%3B%20L_NO_TOUCH%20%3D%20false%3B%20L_DISABLE_3D%20%3D%20false%3B%3C/script%3E%0A%20%20%20%20%3Cscript%20src%3D%22https%3A//cdn.jsdelivr.net/npm/leaflet%401.2.0/dist/leaflet.js%22%3E%3C/script%3E%0A%20%20%20%20%3Cscript%20src%3D%22https%3A//ajax.googleapis.com/ajax/libs/jquery/1.11.1/jquery.min.js%22%3E%3C/script%3E%0A%20%20%20%20%3Cscript%20src%3D%22https%3A//maxcdn.bootstrapcdn.com/bootstrap/3.2.0/js/bootstrap.min.js%22%3E%3C/script%3E%0A%20%20%20%20%3Cscript%20src%3D%22https%3A//cdnjs.cloudflare.com/ajax/libs/Leaflet.awesome-markers/2.0.2/leaflet.awesome-markers.js%22%3E%3C/script%3E%0A%20%20%20%20%3Clink%20rel%3D%22stylesheet%22%20href%3D%22https%3A//cdn.jsdelivr.net/npm/leaflet%401.2.0/dist/leaflet.css%22/%3E%0A%20%20%20%20%3Clink%20rel%3D%22stylesheet%22%20href%3D%22https%3A//maxcdn.bootstrapcdn.com/bootstrap/3.2.0/css/bootstrap.min.css%22/%3E%0A%20%20%20%20%3Clink%20rel%3D%22stylesheet%22%20href%3D%22https%3A//maxcdn.bootstrapcdn.com/bootstrap/3.2.0/css/bootstrap-theme.min.css%22/%3E%0A%20%20%20%20%3Clink%20rel%3D%22stylesheet%22%20href%3D%22https%3A//maxcdn.bootstrapcdn.com/font-awesome/4.6.3/css/font-awesome.min.css%22/%3E%0A%20%20%20%20%3Clink%20rel%3D%22stylesheet%22%20href%3D%22https%3A//cdnjs.cloudflare.com/ajax/libs/Leaflet.awesome-markers/2.0.2/leaflet.awesome-markers.css%22/%3E%0A%20%20%20%20%3Clink%20rel%3D%22stylesheet%22%20href%3D%22https%3A//rawgit.com/python-visualization/folium/master/folium/templates/leaflet.awesome.rotate.css%22/%3E%0A%20%20%20%20%3Cstyle%3Ehtml%2C%20body%20%7Bwidth%3A%20100%25%3Bheight%3A%20100%25%3Bmargin%3A%200%3Bpadding%3A%200%3B%7D%3C/style%3E%0A%20%20%20%20%3Cstyle%3E%23map%20%7Bposition%3Aabsolute%3Btop%3A0%3Bbottom%3A0%3Bright%3A0%3Bleft%3A0%3B%7D%3C/style%3E%0A%20%20%20%20%0A%20%20%20%20%20%20%20%20%20%20%20%20%3Cstyle%3E%20%23map_50ee46e5d4d149d3bac8e0fcb09e1477%20%7B%0A%20%20%20%20%20%20%20%20%20%20%20%20%20%20%20%20position%20%3A%20relative%3B%0A%20%20%20%20%20%20%20%20%20%20%20%20%20%20%20%20width%20%3A%20100.0%25%3B%0A%20%20%20%20%20%20%20%20%20%20%20%20%20%20%20%20height%3A%20100.0%25%3B%0A%20%20%20%20%20%20%20%20%20%20%20%20%20%20%20%20left%3A%200.0%25%3B%0A%20%20%20%20%20%20%20%20%20%20%20%20%20%20%20%20top%3A%200.0%25%3B%0A%20%20%20%20%20%20%20%20%20%20%20%20%20%20%20%20%7D%0A%20%20%20%20%20%20%20%20%20%20%20%20%3C/style%3E%0A%20%20%20%20%20%20%20%20%0A%3C/head%3E%0A%3Cbody%3E%20%20%20%20%0A%20%20%20%20%0A%20%20%20%20%20%20%20%20%20%20%20%20%3Cdiv%20class%3D%22folium-map%22%20id%3D%22map_50ee46e5d4d149d3bac8e0fcb09e1477%22%20%3E%3C/div%3E%0A%20%20%20%20%20%20%20%20%0A%3C/body%3E%0A%3Cscript%3E%20%20%20%20%0A%20%20%20%20%0A%0A%20%20%20%20%20%20%20%20%20%20%20%20%0A%20%20%20%20%20%20%20%20%20%20%20%20%20%20%20%20var%20bounds%20%3D%20null%3B%0A%20%20%20%20%20%20%20%20%20%20%20%20%0A%0A%20%20%20%20%20%20%20%20%20%20%20%20var%20map_50ee46e5d4d149d3bac8e0fcb09e1477%20%3D%20L.map%28%0A%20%20%20%20%20%20%20%20%20%20%20%20%20%20%20%20%20%20%20%20%20%20%20%20%20%20%20%20%20%20%20%20%20%20%27map_50ee46e5d4d149d3bac8e0fcb09e1477%27%2C%0A%20%20%20%20%20%20%20%20%20%20%20%20%20%20%20%20%20%20%20%20%20%20%20%20%20%20%20%20%20%20%20%20%20%20%7Bcenter%3A%20%5B51.5333%2C0.0%5D%2C%0A%20%20%20%20%20%20%20%20%20%20%20%20%20%20%20%20%20%20%20%20%20%20%20%20%20%20%20%20%20%20%20%20%20%20zoom%3A%2011%2C%0A%20%20%20%20%20%20%20%20%20%20%20%20%20%20%20%20%20%20%20%20%20%20%20%20%20%20%20%20%20%20%20%20%20%20maxBounds%3A%20bounds%2C%0A%20%20%20%20%20%20%20%20%20%20%20%20%20%20%20%20%20%20%20%20%20%20%20%20%20%20%20%20%20%20%20%20%20%20layers%3A%20%5B%5D%2C%0A%20%20%20%20%20%20%20%20%20%20%20%20%20%20%20%20%20%20%20%20%20%20%20%20%20%20%20%20%20%20%20%20%20%20worldCopyJump%3A%20false%2C%0A%20%20%20%20%20%20%20%20%20%20%20%20%20%20%20%20%20%20%20%20%20%20%20%20%20%20%20%20%20%20%20%20%20%20crs%3A%20L.CRS.EPSG3857%0A%20%20%20%20%20%20%20%20%20%20%20%20%20%20%20%20%20%20%20%20%20%20%20%20%20%20%20%20%20%20%20%20%20%7D%29%3B%0A%20%20%20%20%20%20%20%20%20%20%20%20%0A%20%20%20%20%20%20%20%20%0A%20%20%20%20%0A%20%20%20%20%20%20%20%20%20%20%20%20var%20tile_layer_fe9c64dd0ef24f3184e833feb6250c0c%20%3D%20L.tileLayer%28%0A%20%20%20%20%20%20%20%20%20%20%20%20%20%20%20%20%27https%3A//%7Bs%7D.tile.openstreetmap.org/%7Bz%7D/%7Bx%7D/%7By%7D.png%27%2C%0A%20%20%20%20%20%20%20%20%20%20%20%20%20%20%20%20%7B%0A%20%20%22attribution%22%3A%20null%2C%0A%20%20%22detectRetina%22%3A%20false%2C%0A%20%20%22maxZoom%22%3A%2018%2C%0A%20%20%22minZoom%22%3A%201%2C%0A%20%20%22noWrap%22%3A%20false%2C%0A%20%20%22subdomains%22%3A%20%22abc%22%0A%7D%0A%20%20%20%20%20%20%20%20%20%20%20%20%20%20%20%20%29.addTo%28map_50ee46e5d4d149d3bac8e0fcb09e1477%29%3B%0A%20%20%20%20%20%20%20%20%0A%20%20%20%20%0A%20%20%20%20%20%20%20%20%20%20%20%20var%20circle_marker_1913a3829aca4735b83853514c39e8fb%20%3D%20L.circleMarker%28%0A%20%20%20%20%20%20%20%20%20%20%20%20%20%20%20%20%5B51.525%2C-0.026571428571428572%5D%2C%0A%20%20%20%20%20%20%20%20%20%20%20%20%20%20%20%20%7B%0A%20%20%22bubblingMouseEvents%22%3A%20true%2C%0A%20%20%22color%22%3A%20%22%23ffb360%22%2C%0A%20%20%22dashArray%22%3A%20null%2C%0A%20%20%22dashOffset%22%3A%20null%2C%0A%20%20%22fill%22%3A%20true%2C%0A%20%20%22fillColor%22%3A%20%22%23ffb360%22%2C%0A%20%20%22fillOpacity%22%3A%200.7%2C%0A%20%20%22fillRule%22%3A%20%22evenodd%22%2C%0A%20%20%22lineCap%22%3A%20%22round%22%2C%0A%20%20%22lineJoin%22%3A%20%22round%22%2C%0A%20%20%22opacity%22%3A%201.0%2C%0A%20%20%22radius%22%3A%205%2C%0A%20%20%22stroke%22%3A%20true%2C%0A%20%20%22weight%22%3A%203%0A%7D%0A%20%20%20%20%20%20%20%20%20%20%20%20%20%20%20%20%29.addTo%28map_50ee46e5d4d149d3bac8e0fcb09e1477%29%3B%0A%20%20%20%20%20%20%20%20%20%20%20%20%0A%20%20%20%20%0A%20%20%20%20%20%20%20%20%20%20%20%20var%20popup_48cc4c039a984fc5bf1b0daca2f661a9%20%3D%20L.popup%28%7BmaxWidth%3A%20%27300%27%7D%29%3B%0A%0A%20%20%20%20%20%20%20%20%20%20%20%20%0A%20%20%20%20%20%20%20%20%20%20%20%20%20%20%20%20var%20html_21d7d40e7126417bb8377a15ef14b754%20%3D%20%24%28%27%3Cdiv%20id%3D%22html_21d7d40e7126417bb8377a15ef14b754%22%20style%3D%22width%3A%20100.0%25%3B%20height%3A%20100.0%25%3B%22%3EMile%20End%2C%20Old%20Ford%2C%20Devons%20Road%2C%20Bow%20Road%2C%20Bow%2C%20Bromley%20by%20Bow%2C%20Bow%20Church%20Cluster%204%3C/div%3E%27%29%5B0%5D%3B%0A%20%20%20%20%20%20%20%20%20%20%20%20%20%20%20%20popup_48cc4c039a984fc5bf1b0daca2f661a9.setContent%28html_21d7d40e7126417bb8377a15ef14b754%29%3B%0A%20%20%20%20%20%20%20%20%20%20%20%20%0A%0A%20%20%20%20%20%20%20%20%20%20%20%20circle_marker_1913a3829aca4735b83853514c39e8fb.bindPopup%28popup_48cc4c039a984fc5bf1b0daca2f661a9%29%3B%0A%0A%20%20%20%20%20%20%20%20%20%20%20%20%0A%20%20%20%20%20%20%20%20%0A%20%20%20%20%0A%20%20%20%20%20%20%20%20%20%20%20%20var%20circle_marker_0d957503952d45029dbf57d2f5fec1b3%20%3D%20L.circleMarker%28%0A%20%20%20%20%20%20%20%20%20%20%20%20%20%20%20%20%5B51.525%2C-0.026571428571428572%5D%2C%0A%20%20%20%20%20%20%20%20%20%20%20%20%20%20%20%20%7B%0A%20%20%22bubblingMouseEvents%22%3A%20true%2C%0A%20%20%22color%22%3A%20%22%23ffb360%22%2C%0A%20%20%22dashArray%22%3A%20null%2C%0A%20%20%22dashOffset%22%3A%20null%2C%0A%20%20%22fill%22%3A%20true%2C%0A%20%20%22fillColor%22%3A%20%22%23ffb360%22%2C%0A%20%20%22fillOpacity%22%3A%200.7%2C%0A%20%20%22fillRule%22%3A%20%22evenodd%22%2C%0A%20%20%22lineCap%22%3A%20%22round%22%2C%0A%20%20%22lineJoin%22%3A%20%22round%22%2C%0A%20%20%22opacity%22%3A%201.0%2C%0A%20%20%22radius%22%3A%205%2C%0A%20%20%22stroke%22%3A%20true%2C%0A%20%20%22weight%22%3A%203%0A%7D%0A%20%20%20%20%20%20%20%20%20%20%20%20%20%20%20%20%29.addTo%28map_50ee46e5d4d149d3bac8e0fcb09e1477%29%3B%0A%20%20%20%20%20%20%20%20%20%20%20%20%0A%20%20%20%20%0A%20%20%20%20%20%20%20%20%20%20%20%20var%20popup_fb7547405c4c442881114e26b3d11f2d%20%3D%20L.popup%28%7BmaxWidth%3A%20%27300%27%7D%29%3B%0A%0A%20%20%20%20%20%20%20%20%20%20%20%20%0A%20%20%20%20%20%20%20%20%20%20%20%20%20%20%20%20var%20html_17c43ab00f5249da901813be867bace5%20%3D%20%24%28%27%3Cdiv%20id%3D%22html_17c43ab00f5249da901813be867bace5%22%20style%3D%22width%3A%20100.0%25%3B%20height%3A%20100.0%25%3B%22%3EMile%20End%2C%20Old%20Ford%2C%20Devons%20Road%2C%20Bow%20Road%2C%20Bow%2C%20Bromley%20by%20Bow%2C%20Bow%20Church%20Cluster%204%3C/div%3E%27%29%5B0%5D%3B%0A%20%20%20%20%20%20%20%20%20%20%20%20%20%20%20%20popup_fb7547405c4c442881114e26b3d11f2d.setContent%28html_17c43ab00f5249da901813be867bace5%29%3B%0A%20%20%20%20%20%20%20%20%20%20%20%20%0A%0A%20%20%20%20%20%20%20%20%20%20%20%20circle_marker_0d957503952d45029dbf57d2f5fec1b3.bindPopup%28popup_fb7547405c4c442881114e26b3d11f2d%29%3B%0A%0A%20%20%20%20%20%20%20%20%20%20%20%20%0A%20%20%20%20%20%20%20%20%0A%20%20%20%20%0A%20%20%20%20%20%20%20%20%20%20%20%20var%20circle_marker_a4c28dc93d4745de84c758e5690f558c%20%3D%20L.circleMarker%28%0A%20%20%20%20%20%20%20%20%20%20%20%20%20%20%20%20%5B51.525%2C-0.026571428571428572%5D%2C%0A%20%20%20%20%20%20%20%20%20%20%20%20%20%20%20%20%7B%0A%20%20%22bubblingMouseEvents%22%3A%20true%2C%0A%20%20%22color%22%3A%20%22%23ffb360%22%2C%0A%20%20%22dashArray%22%3A%20null%2C%0A%20%20%22dashOffset%22%3A%20null%2C%0A%20%20%22fill%22%3A%20true%2C%0A%20%20%22fillColor%22%3A%20%22%23ffb360%22%2C%0A%20%20%22fillOpacity%22%3A%200.7%2C%0A%20%20%22fillRule%22%3A%20%22evenodd%22%2C%0A%20%20%22lineCap%22%3A%20%22round%22%2C%0A%20%20%22lineJoin%22%3A%20%22round%22%2C%0A%20%20%22opacity%22%3A%201.0%2C%0A%20%20%22radius%22%3A%205%2C%0A%20%20%22stroke%22%3A%20true%2C%0A%20%20%22weight%22%3A%203%0A%7D%0A%20%20%20%20%20%20%20%20%20%20%20%20%20%20%20%20%29.addTo%28map_50ee46e5d4d149d3bac8e0fcb09e1477%29%3B%0A%20%20%20%20%20%20%20%20%20%20%20%20%0A%20%20%20%20%0A%20%20%20%20%20%20%20%20%20%20%20%20var%20popup_6b2433170ee84d7f914508f33feca8b6%20%3D%20L.popup%28%7BmaxWidth%3A%20%27300%27%7D%29%3B%0A%0A%20%20%20%20%20%20%20%20%20%20%20%20%0A%20%20%20%20%20%20%20%20%20%20%20%20%20%20%20%20var%20html_7958e01fffb14138bb45e6dfabd0b2db%20%3D%20%24%28%27%3Cdiv%20id%3D%22html_7958e01fffb14138bb45e6dfabd0b2db%22%20style%3D%22width%3A%20100.0%25%3B%20height%3A%20100.0%25%3B%22%3EMile%20End%2C%20Old%20Ford%2C%20Devons%20Road%2C%20Bow%20Road%2C%20Bow%2C%20Bromley%20by%20Bow%2C%20Bow%20Church%20Cluster%204%3C/div%3E%27%29%5B0%5D%3B%0A%20%20%20%20%20%20%20%20%20%20%20%20%20%20%20%20popup_6b2433170ee84d7f914508f33feca8b6.setContent%28html_7958e01fffb14138bb45e6dfabd0b2db%29%3B%0A%20%20%20%20%20%20%20%20%20%20%20%20%0A%0A%20%20%20%20%20%20%20%20%20%20%20%20circle_marker_a4c28dc93d4745de84c758e5690f558c.bindPopup%28popup_6b2433170ee84d7f914508f33feca8b6%29%3B%0A%0A%20%20%20%20%20%20%20%20%20%20%20%20%0A%20%20%20%20%20%20%20%20%0A%20%20%20%20%0A%20%20%20%20%20%20%20%20%20%20%20%20var%20circle_marker_24dee3a02d8e4e2fb72bb98380da8e63%20%3D%20L.circleMarker%28%0A%20%20%20%20%20%20%20%20%20%20%20%20%20%20%20%20%5B51.525%2C-0.026571428571428572%5D%2C%0A%20%20%20%20%20%20%20%20%20%20%20%20%20%20%20%20%7B%0A%20%20%22bubblingMouseEvents%22%3A%20true%2C%0A%20%20%22color%22%3A%20%22%23ffb360%22%2C%0A%20%20%22dashArray%22%3A%20null%2C%0A%20%20%22dashOffset%22%3A%20null%2C%0A%20%20%22fill%22%3A%20true%2C%0A%20%20%22fillColor%22%3A%20%22%23ffb360%22%2C%0A%20%20%22fillOpacity%22%3A%200.7%2C%0A%20%20%22fillRule%22%3A%20%22evenodd%22%2C%0A%20%20%22lineCap%22%3A%20%22round%22%2C%0A%20%20%22lineJoin%22%3A%20%22round%22%2C%0A%20%20%22opacity%22%3A%201.0%2C%0A%20%20%22radius%22%3A%205%2C%0A%20%20%22stroke%22%3A%20true%2C%0A%20%20%22weight%22%3A%203%0A%7D%0A%20%20%20%20%20%20%20%20%20%20%20%20%20%20%20%20%29.addTo%28map_50ee46e5d4d149d3bac8e0fcb09e1477%29%3B%0A%20%20%20%20%20%20%20%20%20%20%20%20%0A%20%20%20%20%0A%20%20%20%20%20%20%20%20%20%20%20%20var%20popup_8141d6f44c3c430fb4198b7bd2ddd5eb%20%3D%20L.popup%28%7BmaxWidth%3A%20%27300%27%7D%29%3B%0A%0A%20%20%20%20%20%20%20%20%20%20%20%20%0A%20%20%20%20%20%20%20%20%20%20%20%20%20%20%20%20var%20html_2c53c7ec2d53453b841fe2bb69983867%20%3D%20%24%28%27%3Cdiv%20id%3D%22html_2c53c7ec2d53453b841fe2bb69983867%22%20style%3D%22width%3A%20100.0%25%3B%20height%3A%20100.0%25%3B%22%3EMile%20End%2C%20Old%20Ford%2C%20Devons%20Road%2C%20Bow%20Road%2C%20Bow%2C%20Bromley%20by%20Bow%2C%20Bow%20Church%20Cluster%204%3C/div%3E%27%29%5B0%5D%3B%0A%20%20%20%20%20%20%20%20%20%20%20%20%20%20%20%20popup_8141d6f44c3c430fb4198b7bd2ddd5eb.setContent%28html_2c53c7ec2d53453b841fe2bb69983867%29%3B%0A%20%20%20%20%20%20%20%20%20%20%20%20%0A%0A%20%20%20%20%20%20%20%20%20%20%20%20circle_marker_24dee3a02d8e4e2fb72bb98380da8e63.bindPopup%28popup_8141d6f44c3c430fb4198b7bd2ddd5eb%29%3B%0A%0A%20%20%20%20%20%20%20%20%20%20%20%20%0A%20%20%20%20%20%20%20%20%0A%20%20%20%20%0A%20%20%20%20%20%20%20%20%20%20%20%20var%20circle_marker_f319bec739be4f49aeddfef81acf97dc%20%3D%20L.circleMarker%28%0A%20%20%20%20%20%20%20%20%20%20%20%20%20%20%20%20%5B51.525%2C-0.026571428571428572%5D%2C%0A%20%20%20%20%20%20%20%20%20%20%20%20%20%20%20%20%7B%0A%20%20%22bubblingMouseEvents%22%3A%20true%2C%0A%20%20%22color%22%3A%20%22%23ffb360%22%2C%0A%20%20%22dashArray%22%3A%20null%2C%0A%20%20%22dashOffset%22%3A%20null%2C%0A%20%20%22fill%22%3A%20true%2C%0A%20%20%22fillColor%22%3A%20%22%23ffb360%22%2C%0A%20%20%22fillOpacity%22%3A%200.7%2C%0A%20%20%22fillRule%22%3A%20%22evenodd%22%2C%0A%20%20%22lineCap%22%3A%20%22round%22%2C%0A%20%20%22lineJoin%22%3A%20%22round%22%2C%0A%20%20%22opacity%22%3A%201.0%2C%0A%20%20%22radius%22%3A%205%2C%0A%20%20%22stroke%22%3A%20true%2C%0A%20%20%22weight%22%3A%203%0A%7D%0A%20%20%20%20%20%20%20%20%20%20%20%20%20%20%20%20%29.addTo%28map_50ee46e5d4d149d3bac8e0fcb09e1477%29%3B%0A%20%20%20%20%20%20%20%20%20%20%20%20%0A%20%20%20%20%0A%20%20%20%20%20%20%20%20%20%20%20%20var%20popup_8d9ecd871eb14a4fa26b3e5390d7b4d0%20%3D%20L.popup%28%7BmaxWidth%3A%20%27300%27%7D%29%3B%0A%0A%20%20%20%20%20%20%20%20%20%20%20%20%0A%20%20%20%20%20%20%20%20%20%20%20%20%20%20%20%20var%20html_8e40deab623449f38f1aaa152ba937ef%20%3D%20%24%28%27%3Cdiv%20id%3D%22html_8e40deab623449f38f1aaa152ba937ef%22%20style%3D%22width%3A%20100.0%25%3B%20height%3A%20100.0%25%3B%22%3EMile%20End%2C%20Old%20Ford%2C%20Devons%20Road%2C%20Bow%20Road%2C%20Bow%2C%20Bromley%20by%20Bow%2C%20Bow%20Church%20Cluster%204%3C/div%3E%27%29%5B0%5D%3B%0A%20%20%20%20%20%20%20%20%20%20%20%20%20%20%20%20popup_8d9ecd871eb14a4fa26b3e5390d7b4d0.setContent%28html_8e40deab623449f38f1aaa152ba937ef%29%3B%0A%20%20%20%20%20%20%20%20%20%20%20%20%0A%0A%20%20%20%20%20%20%20%20%20%20%20%20circle_marker_f319bec739be4f49aeddfef81acf97dc.bindPopup%28popup_8d9ecd871eb14a4fa26b3e5390d7b4d0%29%3B%0A%0A%20%20%20%20%20%20%20%20%20%20%20%20%0A%20%20%20%20%20%20%20%20%0A%20%20%20%20%0A%20%20%20%20%20%20%20%20%20%20%20%20var%20circle_marker_ce34fe4e7d9740d39a801dc2f85bc010%20%3D%20L.circleMarker%28%0A%20%20%20%20%20%20%20%20%20%20%20%20%20%20%20%20%5B51.525%2C-0.026571428571428572%5D%2C%0A%20%20%20%20%20%20%20%20%20%20%20%20%20%20%20%20%7B%0A%20%20%22bubblingMouseEvents%22%3A%20true%2C%0A%20%20%22color%22%3A%20%22%23ffb360%22%2C%0A%20%20%22dashArray%22%3A%20null%2C%0A%20%20%22dashOffset%22%3A%20null%2C%0A%20%20%22fill%22%3A%20true%2C%0A%20%20%22fillColor%22%3A%20%22%23ffb360%22%2C%0A%20%20%22fillOpacity%22%3A%200.7%2C%0A%20%20%22fillRule%22%3A%20%22evenodd%22%2C%0A%20%20%22lineCap%22%3A%20%22round%22%2C%0A%20%20%22lineJoin%22%3A%20%22round%22%2C%0A%20%20%22opacity%22%3A%201.0%2C%0A%20%20%22radius%22%3A%205%2C%0A%20%20%22stroke%22%3A%20true%2C%0A%20%20%22weight%22%3A%203%0A%7D%0A%20%20%20%20%20%20%20%20%20%20%20%20%20%20%20%20%29.addTo%28map_50ee46e5d4d149d3bac8e0fcb09e1477%29%3B%0A%20%20%20%20%20%20%20%20%20%20%20%20%0A%20%20%20%20%0A%20%20%20%20%20%20%20%20%20%20%20%20var%20popup_6c667391799f45cda3bf1cbe9a8974fd%20%3D%20L.popup%28%7BmaxWidth%3A%20%27300%27%7D%29%3B%0A%0A%20%20%20%20%20%20%20%20%20%20%20%20%0A%20%20%20%20%20%20%20%20%20%20%20%20%20%20%20%20var%20html_7dc4871bcfb54da683151ed49b44b504%20%3D%20%24%28%27%3Cdiv%20id%3D%22html_7dc4871bcfb54da683151ed49b44b504%22%20style%3D%22width%3A%20100.0%25%3B%20height%3A%20100.0%25%3B%22%3EMile%20End%2C%20Old%20Ford%2C%20Devons%20Road%2C%20Bow%20Road%2C%20Bow%2C%20Bromley%20by%20Bow%2C%20Bow%20Church%20Cluster%204%3C/div%3E%27%29%5B0%5D%3B%0A%20%20%20%20%20%20%20%20%20%20%20%20%20%20%20%20popup_6c667391799f45cda3bf1cbe9a8974fd.setContent%28html_7dc4871bcfb54da683151ed49b44b504%29%3B%0A%20%20%20%20%20%20%20%20%20%20%20%20%0A%0A%20%20%20%20%20%20%20%20%20%20%20%20circle_marker_ce34fe4e7d9740d39a801dc2f85bc010.bindPopup%28popup_6c667391799f45cda3bf1cbe9a8974fd%29%3B%0A%0A%20%20%20%20%20%20%20%20%20%20%20%20%0A%20%20%20%20%20%20%20%20%0A%20%20%20%20%0A%20%20%20%20%20%20%20%20%20%20%20%20var%20circle_marker_d9ef6095b96a43cbae6c3d9ebb5e7a7c%20%3D%20L.circleMarker%28%0A%20%20%20%20%20%20%20%20%20%20%20%20%20%20%20%20%5B51.525%2C-0.026571428571428572%5D%2C%0A%20%20%20%20%20%20%20%20%20%20%20%20%20%20%20%20%7B%0A%20%20%22bubblingMouseEvents%22%3A%20true%2C%0A%20%20%22color%22%3A%20%22%23ffb360%22%2C%0A%20%20%22dashArray%22%3A%20null%2C%0A%20%20%22dashOffset%22%3A%20null%2C%0A%20%20%22fill%22%3A%20true%2C%0A%20%20%22fillColor%22%3A%20%22%23ffb360%22%2C%0A%20%20%22fillOpacity%22%3A%200.7%2C%0A%20%20%22fillRule%22%3A%20%22evenodd%22%2C%0A%20%20%22lineCap%22%3A%20%22round%22%2C%0A%20%20%22lineJoin%22%3A%20%22round%22%2C%0A%20%20%22opacity%22%3A%201.0%2C%0A%20%20%22radius%22%3A%205%2C%0A%20%20%22stroke%22%3A%20true%2C%0A%20%20%22weight%22%3A%203%0A%7D%0A%20%20%20%20%20%20%20%20%20%20%20%20%20%20%20%20%29.addTo%28map_50ee46e5d4d149d3bac8e0fcb09e1477%29%3B%0A%20%20%20%20%20%20%20%20%20%20%20%20%0A%20%20%20%20%0A%20%20%20%20%20%20%20%20%20%20%20%20var%20popup_014df40e85bf4641800655c6a4ea8d6c%20%3D%20L.popup%28%7BmaxWidth%3A%20%27300%27%7D%29%3B%0A%0A%20%20%20%20%20%20%20%20%20%20%20%20%0A%20%20%20%20%20%20%20%20%20%20%20%20%20%20%20%20var%20html_35cc04266efa458989d16455b19f46a7%20%3D%20%24%28%27%3Cdiv%20id%3D%22html_35cc04266efa458989d16455b19f46a7%22%20style%3D%22width%3A%20100.0%25%3B%20height%3A%20100.0%25%3B%22%3EMile%20End%2C%20Old%20Ford%2C%20Devons%20Road%2C%20Bow%20Road%2C%20Bow%2C%20Bromley%20by%20Bow%2C%20Bow%20Church%20Cluster%204%3C/div%3E%27%29%5B0%5D%3B%0A%20%20%20%20%20%20%20%20%20%20%20%20%20%20%20%20popup_014df40e85bf4641800655c6a4ea8d6c.setContent%28html_35cc04266efa458989d16455b19f46a7%29%3B%0A%20%20%20%20%20%20%20%20%20%20%20%20%0A%0A%20%20%20%20%20%20%20%20%20%20%20%20circle_marker_d9ef6095b96a43cbae6c3d9ebb5e7a7c.bindPopup%28popup_014df40e85bf4641800655c6a4ea8d6c%29%3B%0A%0A%20%20%20%20%20%20%20%20%20%20%20%20%0A%20%20%20%20%20%20%20%20%0A%20%20%20%20%0A%20%20%20%20%20%20%20%20%20%20%20%20var%20circle_marker_ab7c16d5d245405cb1c10b786caa6693%20%3D%20L.circleMarker%28%0A%20%20%20%20%20%20%20%20%20%20%20%20%20%20%20%20%5B51.525%2C-0.026571428571428572%5D%2C%0A%20%20%20%20%20%20%20%20%20%20%20%20%20%20%20%20%7B%0A%20%20%22bubblingMouseEvents%22%3A%20true%2C%0A%20%20%22color%22%3A%20%22%23ffb360%22%2C%0A%20%20%22dashArray%22%3A%20null%2C%0A%20%20%22dashOffset%22%3A%20null%2C%0A%20%20%22fill%22%3A%20true%2C%0A%20%20%22fillColor%22%3A%20%22%23ffb360%22%2C%0A%20%20%22fillOpacity%22%3A%200.7%2C%0A%20%20%22fillRule%22%3A%20%22evenodd%22%2C%0A%20%20%22lineCap%22%3A%20%22round%22%2C%0A%20%20%22lineJoin%22%3A%20%22round%22%2C%0A%20%20%22opacity%22%3A%201.0%2C%0A%20%20%22radius%22%3A%205%2C%0A%20%20%22stroke%22%3A%20true%2C%0A%20%20%22weight%22%3A%203%0A%7D%0A%20%20%20%20%20%20%20%20%20%20%20%20%20%20%20%20%29.addTo%28map_50ee46e5d4d149d3bac8e0fcb09e1477%29%3B%0A%20%20%20%20%20%20%20%20%20%20%20%20%0A%20%20%20%20%0A%20%20%20%20%20%20%20%20%20%20%20%20var%20popup_9472c58a584a4ba4a8f669078a5bc7eb%20%3D%20L.popup%28%7BmaxWidth%3A%20%27300%27%7D%29%3B%0A%0A%20%20%20%20%20%20%20%20%20%20%20%20%0A%20%20%20%20%20%20%20%20%20%20%20%20%20%20%20%20var%20html_3868b6d705d04ec7a9cd75eafea8072b%20%3D%20%24%28%27%3Cdiv%20id%3D%22html_3868b6d705d04ec7a9cd75eafea8072b%22%20style%3D%22width%3A%20100.0%25%3B%20height%3A%20100.0%25%3B%22%3EMile%20End%2C%20Old%20Ford%2C%20Devons%20Road%2C%20Bow%20Road%2C%20Bow%2C%20Bromley%20by%20Bow%2C%20Bow%20Church%20Cluster%204%3C/div%3E%27%29%5B0%5D%3B%0A%20%20%20%20%20%20%20%20%20%20%20%20%20%20%20%20popup_9472c58a584a4ba4a8f669078a5bc7eb.setContent%28html_3868b6d705d04ec7a9cd75eafea8072b%29%3B%0A%20%20%20%20%20%20%20%20%20%20%20%20%0A%0A%20%20%20%20%20%20%20%20%20%20%20%20circle_marker_ab7c16d5d245405cb1c10b786caa6693.bindPopup%28popup_9472c58a584a4ba4a8f669078a5bc7eb%29%3B%0A%0A%20%20%20%20%20%20%20%20%20%20%20%20%0A%20%20%20%20%20%20%20%20%0A%20%20%20%20%0A%20%20%20%20%20%20%20%20%20%20%20%20var%20circle_marker_df7ce72990174dc99fa6fdbee5a19c8d%20%3D%20L.circleMarker%28%0A%20%20%20%20%20%20%20%20%20%20%20%20%20%20%20%20%5B51.525%2C-0.026571428571428572%5D%2C%0A%20%20%20%20%20%20%20%20%20%20%20%20%20%20%20%20%7B%0A%20%20%22bubblingMouseEvents%22%3A%20true%2C%0A%20%20%22color%22%3A%20%22%23ffb360%22%2C%0A%20%20%22dashArray%22%3A%20null%2C%0A%20%20%22dashOffset%22%3A%20null%2C%0A%20%20%22fill%22%3A%20true%2C%0A%20%20%22fillColor%22%3A%20%22%23ffb360%22%2C%0A%20%20%22fillOpacity%22%3A%200.7%2C%0A%20%20%22fillRule%22%3A%20%22evenodd%22%2C%0A%20%20%22lineCap%22%3A%20%22round%22%2C%0A%20%20%22lineJoin%22%3A%20%22round%22%2C%0A%20%20%22opacity%22%3A%201.0%2C%0A%20%20%22radius%22%3A%205%2C%0A%20%20%22stroke%22%3A%20true%2C%0A%20%20%22weight%22%3A%203%0A%7D%0A%20%20%20%20%20%20%20%20%20%20%20%20%20%20%20%20%29.addTo%28map_50ee46e5d4d149d3bac8e0fcb09e1477%29%3B%0A%20%20%20%20%20%20%20%20%20%20%20%20%0A%20%20%20%20%0A%20%20%20%20%20%20%20%20%20%20%20%20var%20popup_7e0202550260458b854dbcfba742a258%20%3D%20L.popup%28%7BmaxWidth%3A%20%27300%27%7D%29%3B%0A%0A%20%20%20%20%20%20%20%20%20%20%20%20%0A%20%20%20%20%20%20%20%20%20%20%20%20%20%20%20%20var%20html_2d4c905e56ad4db491aa04a56be18a8b%20%3D%20%24%28%27%3Cdiv%20id%3D%22html_2d4c905e56ad4db491aa04a56be18a8b%22%20style%3D%22width%3A%20100.0%25%3B%20height%3A%20100.0%25%3B%22%3EMile%20End%2C%20Old%20Ford%2C%20Devons%20Road%2C%20Bow%20Road%2C%20Bow%2C%20Bromley%20by%20Bow%2C%20Bow%20Church%20Cluster%204%3C/div%3E%27%29%5B0%5D%3B%0A%20%20%20%20%20%20%20%20%20%20%20%20%20%20%20%20popup_7e0202550260458b854dbcfba742a258.setContent%28html_2d4c905e56ad4db491aa04a56be18a8b%29%3B%0A%20%20%20%20%20%20%20%20%20%20%20%20%0A%0A%20%20%20%20%20%20%20%20%20%20%20%20circle_marker_df7ce72990174dc99fa6fdbee5a19c8d.bindPopup%28popup_7e0202550260458b854dbcfba742a258%29%3B%0A%0A%20%20%20%20%20%20%20%20%20%20%20%20%0A%20%20%20%20%20%20%20%20%0A%20%20%20%20%0A%20%20%20%20%20%20%20%20%20%20%20%20var%20circle_marker_40d1357010224e3490455882f2ec5fbd%20%3D%20L.circleMarker%28%0A%20%20%20%20%20%20%20%20%20%20%20%20%20%20%20%20%5B51.525%2C-0.026571428571428572%5D%2C%0A%20%20%20%20%20%20%20%20%20%20%20%20%20%20%20%20%7B%0A%20%20%22bubblingMouseEvents%22%3A%20true%2C%0A%20%20%22color%22%3A%20%22%23ffb360%22%2C%0A%20%20%22dashArray%22%3A%20null%2C%0A%20%20%22dashOffset%22%3A%20null%2C%0A%20%20%22fill%22%3A%20true%2C%0A%20%20%22fillColor%22%3A%20%22%23ffb360%22%2C%0A%20%20%22fillOpacity%22%3A%200.7%2C%0A%20%20%22fillRule%22%3A%20%22evenodd%22%2C%0A%20%20%22lineCap%22%3A%20%22round%22%2C%0A%20%20%22lineJoin%22%3A%20%22round%22%2C%0A%20%20%22opacity%22%3A%201.0%2C%0A%20%20%22radius%22%3A%205%2C%0A%20%20%22stroke%22%3A%20true%2C%0A%20%20%22weight%22%3A%203%0A%7D%0A%20%20%20%20%20%20%20%20%20%20%20%20%20%20%20%20%29.addTo%28map_50ee46e5d4d149d3bac8e0fcb09e1477%29%3B%0A%20%20%20%20%20%20%20%20%20%20%20%20%0A%20%20%20%20%0A%20%20%20%20%20%20%20%20%20%20%20%20var%20popup_57fe3d84a1df44a9b3ddedfacfccda39%20%3D%20L.popup%28%7BmaxWidth%3A%20%27300%27%7D%29%3B%0A%0A%20%20%20%20%20%20%20%20%20%20%20%20%0A%20%20%20%20%20%20%20%20%20%20%20%20%20%20%20%20var%20html_06d5b3fde41544c98b90f07a8bf452f6%20%3D%20%24%28%27%3Cdiv%20id%3D%22html_06d5b3fde41544c98b90f07a8bf452f6%22%20style%3D%22width%3A%20100.0%25%3B%20height%3A%20100.0%25%3B%22%3EMile%20End%2C%20Old%20Ford%2C%20Devons%20Road%2C%20Bow%20Road%2C%20Bow%2C%20Bromley%20by%20Bow%2C%20Bow%20Church%20Cluster%204%3C/div%3E%27%29%5B0%5D%3B%0A%20%20%20%20%20%20%20%20%20%20%20%20%20%20%20%20popup_57fe3d84a1df44a9b3ddedfacfccda39.setContent%28html_06d5b3fde41544c98b90f07a8bf452f6%29%3B%0A%20%20%20%20%20%20%20%20%20%20%20%20%0A%0A%20%20%20%20%20%20%20%20%20%20%20%20circle_marker_40d1357010224e3490455882f2ec5fbd.bindPopup%28popup_57fe3d84a1df44a9b3ddedfacfccda39%29%3B%0A%0A%20%20%20%20%20%20%20%20%20%20%20%20%0A%20%20%20%20%20%20%20%20%0A%20%20%20%20%0A%20%20%20%20%20%20%20%20%20%20%20%20var%20circle_marker_8b7cecc496464fa09d806fb22400042a%20%3D%20L.circleMarker%28%0A%20%20%20%20%20%20%20%20%20%20%20%20%20%20%20%20%5B51.525%2C-0.026571428571428572%5D%2C%0A%20%20%20%20%20%20%20%20%20%20%20%20%20%20%20%20%7B%0A%20%20%22bubblingMouseEvents%22%3A%20true%2C%0A%20%20%22color%22%3A%20%22%23ffb360%22%2C%0A%20%20%22dashArray%22%3A%20null%2C%0A%20%20%22dashOffset%22%3A%20null%2C%0A%20%20%22fill%22%3A%20true%2C%0A%20%20%22fillColor%22%3A%20%22%23ffb360%22%2C%0A%20%20%22fillOpacity%22%3A%200.7%2C%0A%20%20%22fillRule%22%3A%20%22evenodd%22%2C%0A%20%20%22lineCap%22%3A%20%22round%22%2C%0A%20%20%22lineJoin%22%3A%20%22round%22%2C%0A%20%20%22opacity%22%3A%201.0%2C%0A%20%20%22radius%22%3A%205%2C%0A%20%20%22stroke%22%3A%20true%2C%0A%20%20%22weight%22%3A%203%0A%7D%0A%20%20%20%20%20%20%20%20%20%20%20%20%20%20%20%20%29.addTo%28map_50ee46e5d4d149d3bac8e0fcb09e1477%29%3B%0A%20%20%20%20%20%20%20%20%20%20%20%20%0A%20%20%20%20%0A%20%20%20%20%20%20%20%20%20%20%20%20var%20popup_f2f3e98a7bb5480cbe8cf6136fc16b68%20%3D%20L.popup%28%7BmaxWidth%3A%20%27300%27%7D%29%3B%0A%0A%20%20%20%20%20%20%20%20%20%20%20%20%0A%20%20%20%20%20%20%20%20%20%20%20%20%20%20%20%20var%20html_675095bd488944618613fcf750a5e11a%20%3D%20%24%28%27%3Cdiv%20id%3D%22html_675095bd488944618613fcf750a5e11a%22%20style%3D%22width%3A%20100.0%25%3B%20height%3A%20100.0%25%3B%22%3EMile%20End%2C%20Old%20Ford%2C%20Devons%20Road%2C%20Bow%20Road%2C%20Bow%2C%20Bromley%20by%20Bow%2C%20Bow%20Church%20Cluster%204%3C/div%3E%27%29%5B0%5D%3B%0A%20%20%20%20%20%20%20%20%20%20%20%20%20%20%20%20popup_f2f3e98a7bb5480cbe8cf6136fc16b68.setContent%28html_675095bd488944618613fcf750a5e11a%29%3B%0A%20%20%20%20%20%20%20%20%20%20%20%20%0A%0A%20%20%20%20%20%20%20%20%20%20%20%20circle_marker_8b7cecc496464fa09d806fb22400042a.bindPopup%28popup_f2f3e98a7bb5480cbe8cf6136fc16b68%29%3B%0A%0A%20%20%20%20%20%20%20%20%20%20%20%20%0A%20%20%20%20%20%20%20%20%0A%20%20%20%20%0A%20%20%20%20%20%20%20%20%20%20%20%20var%20circle_marker_2279a84a76724cec8c9c268320ed71c9%20%3D%20L.circleMarker%28%0A%20%20%20%20%20%20%20%20%20%20%20%20%20%20%20%20%5B51.525%2C-0.026571428571428572%5D%2C%0A%20%20%20%20%20%20%20%20%20%20%20%20%20%20%20%20%7B%0A%20%20%22bubblingMouseEvents%22%3A%20true%2C%0A%20%20%22color%22%3A%20%22%23ffb360%22%2C%0A%20%20%22dashArray%22%3A%20null%2C%0A%20%20%22dashOffset%22%3A%20null%2C%0A%20%20%22fill%22%3A%20true%2C%0A%20%20%22fillColor%22%3A%20%22%23ffb360%22%2C%0A%20%20%22fillOpacity%22%3A%200.7%2C%0A%20%20%22fillRule%22%3A%20%22evenodd%22%2C%0A%20%20%22lineCap%22%3A%20%22round%22%2C%0A%20%20%22lineJoin%22%3A%20%22round%22%2C%0A%20%20%22opacity%22%3A%201.0%2C%0A%20%20%22radius%22%3A%205%2C%0A%20%20%22stroke%22%3A%20true%2C%0A%20%20%22weight%22%3A%203%0A%7D%0A%20%20%20%20%20%20%20%20%20%20%20%20%20%20%20%20%29.addTo%28map_50ee46e5d4d149d3bac8e0fcb09e1477%29%3B%0A%20%20%20%20%20%20%20%20%20%20%20%20%0A%20%20%20%20%0A%20%20%20%20%20%20%20%20%20%20%20%20var%20popup_651b9ca40c26436e9e9931d6297b2d33%20%3D%20L.popup%28%7BmaxWidth%3A%20%27300%27%7D%29%3B%0A%0A%20%20%20%20%20%20%20%20%20%20%20%20%0A%20%20%20%20%20%20%20%20%20%20%20%20%20%20%20%20var%20html_dfdffa4cfe594ab38192f57782039161%20%3D%20%24%28%27%3Cdiv%20id%3D%22html_dfdffa4cfe594ab38192f57782039161%22%20style%3D%22width%3A%20100.0%25%3B%20height%3A%20100.0%25%3B%22%3EMile%20End%2C%20Old%20Ford%2C%20Devons%20Road%2C%20Bow%20Road%2C%20Bow%2C%20Bromley%20by%20Bow%2C%20Bow%20Church%20Cluster%204%3C/div%3E%27%29%5B0%5D%3B%0A%20%20%20%20%20%20%20%20%20%20%20%20%20%20%20%20popup_651b9ca40c26436e9e9931d6297b2d33.setContent%28html_dfdffa4cfe594ab38192f57782039161%29%3B%0A%20%20%20%20%20%20%20%20%20%20%20%20%0A%0A%20%20%20%20%20%20%20%20%20%20%20%20circle_marker_2279a84a76724cec8c9c268320ed71c9.bindPopup%28popup_651b9ca40c26436e9e9931d6297b2d33%29%3B%0A%0A%20%20%20%20%20%20%20%20%20%20%20%20%0A%20%20%20%20%20%20%20%20%0A%20%20%20%20%0A%20%20%20%20%20%20%20%20%20%20%20%20var%20circle_marker_cc4179e61a404d11be6d27971f6227ae%20%3D%20L.circleMarker%28%0A%20%20%20%20%20%20%20%20%20%20%20%20%20%20%20%20%5B51.525%2C-0.026571428571428572%5D%2C%0A%20%20%20%20%20%20%20%20%20%20%20%20%20%20%20%20%7B%0A%20%20%22bubblingMouseEvents%22%3A%20true%2C%0A%20%20%22color%22%3A%20%22%23ffb360%22%2C%0A%20%20%22dashArray%22%3A%20null%2C%0A%20%20%22dashOffset%22%3A%20null%2C%0A%20%20%22fill%22%3A%20true%2C%0A%20%20%22fillColor%22%3A%20%22%23ffb360%22%2C%0A%20%20%22fillOpacity%22%3A%200.7%2C%0A%20%20%22fillRule%22%3A%20%22evenodd%22%2C%0A%20%20%22lineCap%22%3A%20%22round%22%2C%0A%20%20%22lineJoin%22%3A%20%22round%22%2C%0A%20%20%22opacity%22%3A%201.0%2C%0A%20%20%22radius%22%3A%205%2C%0A%20%20%22stroke%22%3A%20true%2C%0A%20%20%22weight%22%3A%203%0A%7D%0A%20%20%20%20%20%20%20%20%20%20%20%20%20%20%20%20%29.addTo%28map_50ee46e5d4d149d3bac8e0fcb09e1477%29%3B%0A%20%20%20%20%20%20%20%20%20%20%20%20%0A%20%20%20%20%0A%20%20%20%20%20%20%20%20%20%20%20%20var%20popup_cfdad84975884e348e7ff97c6d90439e%20%3D%20L.popup%28%7BmaxWidth%3A%20%27300%27%7D%29%3B%0A%0A%20%20%20%20%20%20%20%20%20%20%20%20%0A%20%20%20%20%20%20%20%20%20%20%20%20%20%20%20%20var%20html_9ca83b30b9cb479eb41a48bffd193a7b%20%3D%20%24%28%27%3Cdiv%20id%3D%22html_9ca83b30b9cb479eb41a48bffd193a7b%22%20style%3D%22width%3A%20100.0%25%3B%20height%3A%20100.0%25%3B%22%3EMile%20End%2C%20Old%20Ford%2C%20Devons%20Road%2C%20Bow%20Road%2C%20Bow%2C%20Bromley%20by%20Bow%2C%20Bow%20Church%20Cluster%204%3C/div%3E%27%29%5B0%5D%3B%0A%20%20%20%20%20%20%20%20%20%20%20%20%20%20%20%20popup_cfdad84975884e348e7ff97c6d90439e.setContent%28html_9ca83b30b9cb479eb41a48bffd193a7b%29%3B%0A%20%20%20%20%20%20%20%20%20%20%20%20%0A%0A%20%20%20%20%20%20%20%20%20%20%20%20circle_marker_cc4179e61a404d11be6d27971f6227ae.bindPopup%28popup_cfdad84975884e348e7ff97c6d90439e%29%3B%0A%0A%20%20%20%20%20%20%20%20%20%20%20%20%0A%20%20%20%20%20%20%20%20%0A%20%20%20%20%0A%20%20%20%20%20%20%20%20%20%20%20%20var%20circle_marker_b09e29daec4845379390aae4c219179e%20%3D%20L.circleMarker%28%0A%20%20%20%20%20%20%20%20%20%20%20%20%20%20%20%20%5B51.525%2C-0.026571428571428572%5D%2C%0A%20%20%20%20%20%20%20%20%20%20%20%20%20%20%20%20%7B%0A%20%20%22bubblingMouseEvents%22%3A%20true%2C%0A%20%20%22color%22%3A%20%22%23ffb360%22%2C%0A%20%20%22dashArray%22%3A%20null%2C%0A%20%20%22dashOffset%22%3A%20null%2C%0A%20%20%22fill%22%3A%20true%2C%0A%20%20%22fillColor%22%3A%20%22%23ffb360%22%2C%0A%20%20%22fillOpacity%22%3A%200.7%2C%0A%20%20%22fillRule%22%3A%20%22evenodd%22%2C%0A%20%20%22lineCap%22%3A%20%22round%22%2C%0A%20%20%22lineJoin%22%3A%20%22round%22%2C%0A%20%20%22opacity%22%3A%201.0%2C%0A%20%20%22radius%22%3A%205%2C%0A%20%20%22stroke%22%3A%20true%2C%0A%20%20%22weight%22%3A%203%0A%7D%0A%20%20%20%20%20%20%20%20%20%20%20%20%20%20%20%20%29.addTo%28map_50ee46e5d4d149d3bac8e0fcb09e1477%29%3B%0A%20%20%20%20%20%20%20%20%20%20%20%20%0A%20%20%20%20%0A%20%20%20%20%20%20%20%20%20%20%20%20var%20popup_9914f0571daa42f3997e43a5d85cac25%20%3D%20L.popup%28%7BmaxWidth%3A%20%27300%27%7D%29%3B%0A%0A%20%20%20%20%20%20%20%20%20%20%20%20%0A%20%20%20%20%20%20%20%20%20%20%20%20%20%20%20%20var%20html_2ca3310c9cff4ff996b6c87f79599429%20%3D%20%24%28%27%3Cdiv%20id%3D%22html_2ca3310c9cff4ff996b6c87f79599429%22%20style%3D%22width%3A%20100.0%25%3B%20height%3A%20100.0%25%3B%22%3EMile%20End%2C%20Old%20Ford%2C%20Devons%20Road%2C%20Bow%20Road%2C%20Bow%2C%20Bromley%20by%20Bow%2C%20Bow%20Church%20Cluster%204%3C/div%3E%27%29%5B0%5D%3B%0A%20%20%20%20%20%20%20%20%20%20%20%20%20%20%20%20popup_9914f0571daa42f3997e43a5d85cac25.setContent%28html_2ca3310c9cff4ff996b6c87f79599429%29%3B%0A%20%20%20%20%20%20%20%20%20%20%20%20%0A%0A%20%20%20%20%20%20%20%20%20%20%20%20circle_marker_b09e29daec4845379390aae4c219179e.bindPopup%28popup_9914f0571daa42f3997e43a5d85cac25%29%3B%0A%0A%20%20%20%20%20%20%20%20%20%20%20%20%0A%20%20%20%20%20%20%20%20%0A%20%20%20%20%0A%20%20%20%20%20%20%20%20%20%20%20%20var%20circle_marker_9dfeaea98e5e4117b021d52077e84f12%20%3D%20L.circleMarker%28%0A%20%20%20%20%20%20%20%20%20%20%20%20%20%20%20%20%5B51.525%2C-0.026571428571428572%5D%2C%0A%20%20%20%20%20%20%20%20%20%20%20%20%20%20%20%20%7B%0A%20%20%22bubblingMouseEvents%22%3A%20true%2C%0A%20%20%22color%22%3A%20%22%23ffb360%22%2C%0A%20%20%22dashArray%22%3A%20null%2C%0A%20%20%22dashOffset%22%3A%20null%2C%0A%20%20%22fill%22%3A%20true%2C%0A%20%20%22fillColor%22%3A%20%22%23ffb360%22%2C%0A%20%20%22fillOpacity%22%3A%200.7%2C%0A%20%20%22fillRule%22%3A%20%22evenodd%22%2C%0A%20%20%22lineCap%22%3A%20%22round%22%2C%0A%20%20%22lineJoin%22%3A%20%22round%22%2C%0A%20%20%22opacity%22%3A%201.0%2C%0A%20%20%22radius%22%3A%205%2C%0A%20%20%22stroke%22%3A%20true%2C%0A%20%20%22weight%22%3A%203%0A%7D%0A%20%20%20%20%20%20%20%20%20%20%20%20%20%20%20%20%29.addTo%28map_50ee46e5d4d149d3bac8e0fcb09e1477%29%3B%0A%20%20%20%20%20%20%20%20%20%20%20%20%0A%20%20%20%20%0A%20%20%20%20%20%20%20%20%20%20%20%20var%20popup_fc6bf7c794714eb3bd5f6bf1d5acd955%20%3D%20L.popup%28%7BmaxWidth%3A%20%27300%27%7D%29%3B%0A%0A%20%20%20%20%20%20%20%20%20%20%20%20%0A%20%20%20%20%20%20%20%20%20%20%20%20%20%20%20%20var%20html_778a3ade9a9d48dca3d06c65970f9832%20%3D%20%24%28%27%3Cdiv%20id%3D%22html_778a3ade9a9d48dca3d06c65970f9832%22%20style%3D%22width%3A%20100.0%25%3B%20height%3A%20100.0%25%3B%22%3EMile%20End%2C%20Old%20Ford%2C%20Devons%20Road%2C%20Bow%20Road%2C%20Bow%2C%20Bromley%20by%20Bow%2C%20Bow%20Church%20Cluster%204%3C/div%3E%27%29%5B0%5D%3B%0A%20%20%20%20%20%20%20%20%20%20%20%20%20%20%20%20popup_fc6bf7c794714eb3bd5f6bf1d5acd955.setContent%28html_778a3ade9a9d48dca3d06c65970f9832%29%3B%0A%20%20%20%20%20%20%20%20%20%20%20%20%0A%0A%20%20%20%20%20%20%20%20%20%20%20%20circle_marker_9dfeaea98e5e4117b021d52077e84f12.bindPopup%28popup_fc6bf7c794714eb3bd5f6bf1d5acd955%29%3B%0A%0A%20%20%20%20%20%20%20%20%20%20%20%20%0A%20%20%20%20%20%20%20%20%0A%20%20%20%20%0A%20%20%20%20%20%20%20%20%20%20%20%20var%20circle_marker_9d8e8968cbf64eb7a0f61104f6b1124e%20%3D%20L.circleMarker%28%0A%20%20%20%20%20%20%20%20%20%20%20%20%20%20%20%20%5B51.525%2C-0.026571428571428572%5D%2C%0A%20%20%20%20%20%20%20%20%20%20%20%20%20%20%20%20%7B%0A%20%20%22bubblingMouseEvents%22%3A%20true%2C%0A%20%20%22color%22%3A%20%22%23ffb360%22%2C%0A%20%20%22dashArray%22%3A%20null%2C%0A%20%20%22dashOffset%22%3A%20null%2C%0A%20%20%22fill%22%3A%20true%2C%0A%20%20%22fillColor%22%3A%20%22%23ffb360%22%2C%0A%20%20%22fillOpacity%22%3A%200.7%2C%0A%20%20%22fillRule%22%3A%20%22evenodd%22%2C%0A%20%20%22lineCap%22%3A%20%22round%22%2C%0A%20%20%22lineJoin%22%3A%20%22round%22%2C%0A%20%20%22opacity%22%3A%201.0%2C%0A%20%20%22radius%22%3A%205%2C%0A%20%20%22stroke%22%3A%20true%2C%0A%20%20%22weight%22%3A%203%0A%7D%0A%20%20%20%20%20%20%20%20%20%20%20%20%20%20%20%20%29.addTo%28map_50ee46e5d4d149d3bac8e0fcb09e1477%29%3B%0A%20%20%20%20%20%20%20%20%20%20%20%20%0A%20%20%20%20%0A%20%20%20%20%20%20%20%20%20%20%20%20var%20popup_ef3ac673a7e8450ea8e91042b2a962fd%20%3D%20L.popup%28%7BmaxWidth%3A%20%27300%27%7D%29%3B%0A%0A%20%20%20%20%20%20%20%20%20%20%20%20%0A%20%20%20%20%20%20%20%20%20%20%20%20%20%20%20%20var%20html_88557d210c7647a99fbff9a47e5c2942%20%3D%20%24%28%27%3Cdiv%20id%3D%22html_88557d210c7647a99fbff9a47e5c2942%22%20style%3D%22width%3A%20100.0%25%3B%20height%3A%20100.0%25%3B%22%3EMile%20End%2C%20Old%20Ford%2C%20Devons%20Road%2C%20Bow%20Road%2C%20Bow%2C%20Bromley%20by%20Bow%2C%20Bow%20Church%20Cluster%204%3C/div%3E%27%29%5B0%5D%3B%0A%20%20%20%20%20%20%20%20%20%20%20%20%20%20%20%20popup_ef3ac673a7e8450ea8e91042b2a962fd.setContent%28html_88557d210c7647a99fbff9a47e5c2942%29%3B%0A%20%20%20%20%20%20%20%20%20%20%20%20%0A%0A%20%20%20%20%20%20%20%20%20%20%20%20circle_marker_9d8e8968cbf64eb7a0f61104f6b1124e.bindPopup%28popup_ef3ac673a7e8450ea8e91042b2a962fd%29%3B%0A%0A%20%20%20%20%20%20%20%20%20%20%20%20%0A%20%20%20%20%20%20%20%20%0A%20%20%20%20%0A%20%20%20%20%20%20%20%20%20%20%20%20var%20circle_marker_acb118e684aa46309bcc133d5c8ef381%20%3D%20L.circleMarker%28%0A%20%20%20%20%20%20%20%20%20%20%20%20%20%20%20%20%5B51.5333%2C0.018266666666666667%5D%2C%0A%20%20%20%20%20%20%20%20%20%20%20%20%20%20%20%20%7B%0A%20%20%22bubblingMouseEvents%22%3A%20true%2C%0A%20%20%22color%22%3A%20%22%23ffb360%22%2C%0A%20%20%22dashArray%22%3A%20null%2C%0A%20%20%22dashOffset%22%3A%20null%2C%0A%20%20%22fill%22%3A%20true%2C%0A%20%20%22fillColor%22%3A%20%22%23ffb360%22%2C%0A%20%20%22fillOpacity%22%3A%200.7%2C%0A%20%20%22fillRule%22%3A%20%22evenodd%22%2C%0A%20%20%22lineCap%22%3A%20%22round%22%2C%0A%20%20%22lineJoin%22%3A%20%22round%22%2C%0A%20%20%22opacity%22%3A%201.0%2C%0A%20%20%22radius%22%3A%205%2C%0A%20%20%22stroke%22%3A%20true%2C%0A%20%20%22weight%22%3A%203%0A%7D%0A%20%20%20%20%20%20%20%20%20%20%20%20%20%20%20%20%29.addTo%28map_50ee46e5d4d149d3bac8e0fcb09e1477%29%3B%0A%20%20%20%20%20%20%20%20%20%20%20%20%0A%20%20%20%20%0A%20%20%20%20%20%20%20%20%20%20%20%20var%20popup_784dc454343544cc9811e959fbd210d5%20%3D%20L.popup%28%7BmaxWidth%3A%20%27300%27%7D%29%3B%0A%0A%20%20%20%20%20%20%20%20%20%20%20%20%0A%20%20%20%20%20%20%20%20%20%20%20%20%20%20%20%20var%20html_fe8504ee99154db18d6fbc86618609da%20%3D%20%24%28%27%3Cdiv%20id%3D%22html_fe8504ee99154db18d6fbc86618609da%22%20style%3D%22width%3A%20100.0%25%3B%20height%3A%20100.0%25%3B%22%3EWest%20Ham%2C%20Plaistow%2C%20Newham%20Cluster%204%3C/div%3E%27%29%5B0%5D%3B%0A%20%20%20%20%20%20%20%20%20%20%20%20%20%20%20%20popup_784dc454343544cc9811e959fbd210d5.setContent%28html_fe8504ee99154db18d6fbc86618609da%29%3B%0A%20%20%20%20%20%20%20%20%20%20%20%20%0A%0A%20%20%20%20%20%20%20%20%20%20%20%20circle_marker_acb118e684aa46309bcc133d5c8ef381.bindPopup%28popup_784dc454343544cc9811e959fbd210d5%29%3B%0A%0A%20%20%20%20%20%20%20%20%20%20%20%20%0A%20%20%20%20%20%20%20%20%0A%20%20%20%20%0A%20%20%20%20%20%20%20%20%20%20%20%20var%20circle_marker_b620ddf3de0d40a48819b26d1784ec2b%20%3D%20L.circleMarker%28%0A%20%20%20%20%20%20%20%20%20%20%20%20%20%20%20%20%5B51.5333%2C0.018266666666666667%5D%2C%0A%20%20%20%20%20%20%20%20%20%20%20%20%20%20%20%20%7B%0A%20%20%22bubblingMouseEvents%22%3A%20true%2C%0A%20%20%22color%22%3A%20%22%23ffb360%22%2C%0A%20%20%22dashArray%22%3A%20null%2C%0A%20%20%22dashOffset%22%3A%20null%2C%0A%20%20%22fill%22%3A%20true%2C%0A%20%20%22fillColor%22%3A%20%22%23ffb360%22%2C%0A%20%20%22fillOpacity%22%3A%200.7%2C%0A%20%20%22fillRule%22%3A%20%22evenodd%22%2C%0A%20%20%22lineCap%22%3A%20%22round%22%2C%0A%20%20%22lineJoin%22%3A%20%22round%22%2C%0A%20%20%22opacity%22%3A%201.0%2C%0A%20%20%22radius%22%3A%205%2C%0A%20%20%22stroke%22%3A%20true%2C%0A%20%20%22weight%22%3A%203%0A%7D%0A%20%20%20%20%20%20%20%20%20%20%20%20%20%20%20%20%29.addTo%28map_50ee46e5d4d149d3bac8e0fcb09e1477%29%3B%0A%20%20%20%20%20%20%20%20%20%20%20%20%0A%20%20%20%20%0A%20%20%20%20%20%20%20%20%20%20%20%20var%20popup_cf8f5776c9b946499fab7c3e4c1389bd%20%3D%20L.popup%28%7BmaxWidth%3A%20%27300%27%7D%29%3B%0A%0A%20%20%20%20%20%20%20%20%20%20%20%20%0A%20%20%20%20%20%20%20%20%20%20%20%20%20%20%20%20var%20html_13dd16788db240a4871234ce4a6d2271%20%3D%20%24%28%27%3Cdiv%20id%3D%22html_13dd16788db240a4871234ce4a6d2271%22%20style%3D%22width%3A%20100.0%25%3B%20height%3A%20100.0%25%3B%22%3EWest%20Ham%2C%20Plaistow%2C%20Newham%20Cluster%204%3C/div%3E%27%29%5B0%5D%3B%0A%20%20%20%20%20%20%20%20%20%20%20%20%20%20%20%20popup_cf8f5776c9b946499fab7c3e4c1389bd.setContent%28html_13dd16788db240a4871234ce4a6d2271%29%3B%0A%20%20%20%20%20%20%20%20%20%20%20%20%0A%0A%20%20%20%20%20%20%20%20%20%20%20%20circle_marker_b620ddf3de0d40a48819b26d1784ec2b.bindPopup%28popup_cf8f5776c9b946499fab7c3e4c1389bd%29%3B%0A%0A%20%20%20%20%20%20%20%20%20%20%20%20%0A%20%20%20%20%20%20%20%20%0A%20%20%20%20%0A%20%20%20%20%20%20%20%20%20%20%20%20var%20circle_marker_4a1dffa5bda148a8b34aca4133a9a4d3%20%3D%20L.circleMarker%28%0A%20%20%20%20%20%20%20%20%20%20%20%20%20%20%20%20%5B51.5333%2C0.018266666666666667%5D%2C%0A%20%20%20%20%20%20%20%20%20%20%20%20%20%20%20%20%7B%0A%20%20%22bubblingMouseEvents%22%3A%20true%2C%0A%20%20%22color%22%3A%20%22%23ffb360%22%2C%0A%20%20%22dashArray%22%3A%20null%2C%0A%20%20%22dashOffset%22%3A%20null%2C%0A%20%20%22fill%22%3A%20true%2C%0A%20%20%22fillColor%22%3A%20%22%23ffb360%22%2C%0A%20%20%22fillOpacity%22%3A%200.7%2C%0A%20%20%22fillRule%22%3A%20%22evenodd%22%2C%0A%20%20%22lineCap%22%3A%20%22round%22%2C%0A%20%20%22lineJoin%22%3A%20%22round%22%2C%0A%20%20%22opacity%22%3A%201.0%2C%0A%20%20%22radius%22%3A%205%2C%0A%20%20%22stroke%22%3A%20true%2C%0A%20%20%22weight%22%3A%203%0A%7D%0A%20%20%20%20%20%20%20%20%20%20%20%20%20%20%20%20%29.addTo%28map_50ee46e5d4d149d3bac8e0fcb09e1477%29%3B%0A%20%20%20%20%20%20%20%20%20%20%20%20%0A%20%20%20%20%0A%20%20%20%20%20%20%20%20%20%20%20%20var%20popup_4cd0896b73894bcba2db7fed759856ea%20%3D%20L.popup%28%7BmaxWidth%3A%20%27300%27%7D%29%3B%0A%0A%20%20%20%20%20%20%20%20%20%20%20%20%0A%20%20%20%20%20%20%20%20%20%20%20%20%20%20%20%20var%20html_64629ab8edf14052874c2abd0c43f9c5%20%3D%20%24%28%27%3Cdiv%20id%3D%22html_64629ab8edf14052874c2abd0c43f9c5%22%20style%3D%22width%3A%20100.0%25%3B%20height%3A%20100.0%25%3B%22%3EWest%20Ham%2C%20Plaistow%2C%20Newham%20Cluster%204%3C/div%3E%27%29%5B0%5D%3B%0A%20%20%20%20%20%20%20%20%20%20%20%20%20%20%20%20popup_4cd0896b73894bcba2db7fed759856ea.setContent%28html_64629ab8edf14052874c2abd0c43f9c5%29%3B%0A%20%20%20%20%20%20%20%20%20%20%20%20%0A%0A%20%20%20%20%20%20%20%20%20%20%20%20circle_marker_4a1dffa5bda148a8b34aca4133a9a4d3.bindPopup%28popup_4cd0896b73894bcba2db7fed759856ea%29%3B%0A%0A%20%20%20%20%20%20%20%20%20%20%20%20%0A%20%20%20%20%20%20%20%20%0A%20%20%20%20%0A%20%20%20%20%20%20%20%20%20%20%20%20var%20circle_marker_409d9920185f45748ef526047484b864%20%3D%20L.circleMarker%28%0A%20%20%20%20%20%20%20%20%20%20%20%20%20%20%20%20%5B51.5333%2C0.018266666666666667%5D%2C%0A%20%20%20%20%20%20%20%20%20%20%20%20%20%20%20%20%7B%0A%20%20%22bubblingMouseEvents%22%3A%20true%2C%0A%20%20%22color%22%3A%20%22%23ffb360%22%2C%0A%20%20%22dashArray%22%3A%20null%2C%0A%20%20%22dashOffset%22%3A%20null%2C%0A%20%20%22fill%22%3A%20true%2C%0A%20%20%22fillColor%22%3A%20%22%23ffb360%22%2C%0A%20%20%22fillOpacity%22%3A%200.7%2C%0A%20%20%22fillRule%22%3A%20%22evenodd%22%2C%0A%20%20%22lineCap%22%3A%20%22round%22%2C%0A%20%20%22lineJoin%22%3A%20%22round%22%2C%0A%20%20%22opacity%22%3A%201.0%2C%0A%20%20%22radius%22%3A%205%2C%0A%20%20%22stroke%22%3A%20true%2C%0A%20%20%22weight%22%3A%203%0A%7D%0A%20%20%20%20%20%20%20%20%20%20%20%20%20%20%20%20%29.addTo%28map_50ee46e5d4d149d3bac8e0fcb09e1477%29%3B%0A%20%20%20%20%20%20%20%20%20%20%20%20%0A%20%20%20%20%0A%20%20%20%20%20%20%20%20%20%20%20%20var%20popup_cd154c2842b245ae892e6fce87e2662a%20%3D%20L.popup%28%7BmaxWidth%3A%20%27300%27%7D%29%3B%0A%0A%20%20%20%20%20%20%20%20%20%20%20%20%0A%20%20%20%20%20%20%20%20%20%20%20%20%20%20%20%20var%20html_71d25241d94a4f9bbacf01c2b59935b8%20%3D%20%24%28%27%3Cdiv%20id%3D%22html_71d25241d94a4f9bbacf01c2b59935b8%22%20style%3D%22width%3A%20100.0%25%3B%20height%3A%20100.0%25%3B%22%3EWest%20Ham%2C%20Plaistow%2C%20Newham%20Cluster%204%3C/div%3E%27%29%5B0%5D%3B%0A%20%20%20%20%20%20%20%20%20%20%20%20%20%20%20%20popup_cd154c2842b245ae892e6fce87e2662a.setContent%28html_71d25241d94a4f9bbacf01c2b59935b8%29%3B%0A%20%20%20%20%20%20%20%20%20%20%20%20%0A%0A%20%20%20%20%20%20%20%20%20%20%20%20circle_marker_409d9920185f45748ef526047484b864.bindPopup%28popup_cd154c2842b245ae892e6fce87e2662a%29%3B%0A%0A%20%20%20%20%20%20%20%20%20%20%20%20%0A%20%20%20%20%20%20%20%20%0A%20%20%20%20%0A%20%20%20%20%20%20%20%20%20%20%20%20var%20circle_marker_a6c2de38177c44cb9a9fa7c227caf05d%20%3D%20L.circleMarker%28%0A%20%20%20%20%20%20%20%20%20%20%20%20%20%20%20%20%5B51.5333%2C0.018266666666666667%5D%2C%0A%20%20%20%20%20%20%20%20%20%20%20%20%20%20%20%20%7B%0A%20%20%22bubblingMouseEvents%22%3A%20true%2C%0A%20%20%22color%22%3A%20%22%23ffb360%22%2C%0A%20%20%22dashArray%22%3A%20null%2C%0A%20%20%22dashOffset%22%3A%20null%2C%0A%20%20%22fill%22%3A%20true%2C%0A%20%20%22fillColor%22%3A%20%22%23ffb360%22%2C%0A%20%20%22fillOpacity%22%3A%200.7%2C%0A%20%20%22fillRule%22%3A%20%22evenodd%22%2C%0A%20%20%22lineCap%22%3A%20%22round%22%2C%0A%20%20%22lineJoin%22%3A%20%22round%22%2C%0A%20%20%22opacity%22%3A%201.0%2C%0A%20%20%22radius%22%3A%205%2C%0A%20%20%22stroke%22%3A%20true%2C%0A%20%20%22weight%22%3A%203%0A%7D%0A%20%20%20%20%20%20%20%20%20%20%20%20%20%20%20%20%29.addTo%28map_50ee46e5d4d149d3bac8e0fcb09e1477%29%3B%0A%20%20%20%20%20%20%20%20%20%20%20%20%0A%20%20%20%20%0A%20%20%20%20%20%20%20%20%20%20%20%20var%20popup_25cae334c6b84454a0a0edb0ee210af1%20%3D%20L.popup%28%7BmaxWidth%3A%20%27300%27%7D%29%3B%0A%0A%20%20%20%20%20%20%20%20%20%20%20%20%0A%20%20%20%20%20%20%20%20%20%20%20%20%20%20%20%20var%20html_3dd6074390374a209bb4e0dd5a5d3bfb%20%3D%20%24%28%27%3Cdiv%20id%3D%22html_3dd6074390374a209bb4e0dd5a5d3bfb%22%20style%3D%22width%3A%20100.0%25%3B%20height%3A%20100.0%25%3B%22%3EWest%20Ham%2C%20Plaistow%2C%20Newham%20Cluster%204%3C/div%3E%27%29%5B0%5D%3B%0A%20%20%20%20%20%20%20%20%20%20%20%20%20%20%20%20popup_25cae334c6b84454a0a0edb0ee210af1.setContent%28html_3dd6074390374a209bb4e0dd5a5d3bfb%29%3B%0A%20%20%20%20%20%20%20%20%20%20%20%20%0A%0A%20%20%20%20%20%20%20%20%20%20%20%20circle_marker_a6c2de38177c44cb9a9fa7c227caf05d.bindPopup%28popup_25cae334c6b84454a0a0edb0ee210af1%29%3B%0A%0A%20%20%20%20%20%20%20%20%20%20%20%20%0A%20%20%20%20%20%20%20%20%0A%20%20%20%20%0A%20%20%20%20%20%20%20%20%20%20%20%20var%20circle_marker_ee7f165150574a38ad3805617ef46ef6%20%3D%20L.circleMarker%28%0A%20%20%20%20%20%20%20%20%20%20%20%20%20%20%20%20%5B51.5333%2C0.018266666666666667%5D%2C%0A%20%20%20%20%20%20%20%20%20%20%20%20%20%20%20%20%7B%0A%20%20%22bubblingMouseEvents%22%3A%20true%2C%0A%20%20%22color%22%3A%20%22%23ffb360%22%2C%0A%20%20%22dashArray%22%3A%20null%2C%0A%20%20%22dashOffset%22%3A%20null%2C%0A%20%20%22fill%22%3A%20true%2C%0A%20%20%22fillColor%22%3A%20%22%23ffb360%22%2C%0A%20%20%22fillOpacity%22%3A%200.7%2C%0A%20%20%22fillRule%22%3A%20%22evenodd%22%2C%0A%20%20%22lineCap%22%3A%20%22round%22%2C%0A%20%20%22lineJoin%22%3A%20%22round%22%2C%0A%20%20%22opacity%22%3A%201.0%2C%0A%20%20%22radius%22%3A%205%2C%0A%20%20%22stroke%22%3A%20true%2C%0A%20%20%22weight%22%3A%203%0A%7D%0A%20%20%20%20%20%20%20%20%20%20%20%20%20%20%20%20%29.addTo%28map_50ee46e5d4d149d3bac8e0fcb09e1477%29%3B%0A%20%20%20%20%20%20%20%20%20%20%20%20%0A%20%20%20%20%0A%20%20%20%20%20%20%20%20%20%20%20%20var%20popup_b8065289d72c4bb788369b51eb6c115e%20%3D%20L.popup%28%7BmaxWidth%3A%20%27300%27%7D%29%3B%0A%0A%20%20%20%20%20%20%20%20%20%20%20%20%0A%20%20%20%20%20%20%20%20%20%20%20%20%20%20%20%20var%20html_45efeca2f1ee4caa8bdaba057d4f2335%20%3D%20%24%28%27%3Cdiv%20id%3D%22html_45efeca2f1ee4caa8bdaba057d4f2335%22%20style%3D%22width%3A%20100.0%25%3B%20height%3A%20100.0%25%3B%22%3EWest%20Ham%2C%20Plaistow%2C%20Newham%20Cluster%204%3C/div%3E%27%29%5B0%5D%3B%0A%20%20%20%20%20%20%20%20%20%20%20%20%20%20%20%20popup_b8065289d72c4bb788369b51eb6c115e.setContent%28html_45efeca2f1ee4caa8bdaba057d4f2335%29%3B%0A%20%20%20%20%20%20%20%20%20%20%20%20%0A%0A%20%20%20%20%20%20%20%20%20%20%20%20circle_marker_ee7f165150574a38ad3805617ef46ef6.bindPopup%28popup_b8065289d72c4bb788369b51eb6c115e%29%3B%0A%0A%20%20%20%20%20%20%20%20%20%20%20%20%0A%20%20%20%20%20%20%20%20%0A%20%20%20%20%0A%20%20%20%20%20%20%20%20%20%20%20%20var%20circle_marker_a5439730615a4abbb01408421ab555a8%20%3D%20L.circleMarker%28%0A%20%20%20%20%20%20%20%20%20%20%20%20%20%20%20%20%5B51.5333%2C0.018266666666666667%5D%2C%0A%20%20%20%20%20%20%20%20%20%20%20%20%20%20%20%20%7B%0A%20%20%22bubblingMouseEvents%22%3A%20true%2C%0A%20%20%22color%22%3A%20%22%23ffb360%22%2C%0A%20%20%22dashArray%22%3A%20null%2C%0A%20%20%22dashOffset%22%3A%20null%2C%0A%20%20%22fill%22%3A%20true%2C%0A%20%20%22fillColor%22%3A%20%22%23ffb360%22%2C%0A%20%20%22fillOpacity%22%3A%200.7%2C%0A%20%20%22fillRule%22%3A%20%22evenodd%22%2C%0A%20%20%22lineCap%22%3A%20%22round%22%2C%0A%20%20%22lineJoin%22%3A%20%22round%22%2C%0A%20%20%22opacity%22%3A%201.0%2C%0A%20%20%22radius%22%3A%205%2C%0A%20%20%22stroke%22%3A%20true%2C%0A%20%20%22weight%22%3A%203%0A%7D%0A%20%20%20%20%20%20%20%20%20%20%20%20%20%20%20%20%29.addTo%28map_50ee46e5d4d149d3bac8e0fcb09e1477%29%3B%0A%20%20%20%20%20%20%20%20%20%20%20%20%0A%20%20%20%20%0A%20%20%20%20%20%20%20%20%20%20%20%20var%20popup_3201a7fb6dd244cbb0370f8ad9ba49f0%20%3D%20L.popup%28%7BmaxWidth%3A%20%27300%27%7D%29%3B%0A%0A%20%20%20%20%20%20%20%20%20%20%20%20%0A%20%20%20%20%20%20%20%20%20%20%20%20%20%20%20%20var%20html_e0c5ddb4cb0444ab8c62825c1bc27d1c%20%3D%20%24%28%27%3Cdiv%20id%3D%22html_e0c5ddb4cb0444ab8c62825c1bc27d1c%22%20style%3D%22width%3A%20100.0%25%3B%20height%3A%20100.0%25%3B%22%3EWest%20Ham%2C%20Plaistow%2C%20Newham%20Cluster%204%3C/div%3E%27%29%5B0%5D%3B%0A%20%20%20%20%20%20%20%20%20%20%20%20%20%20%20%20popup_3201a7fb6dd244cbb0370f8ad9ba49f0.setContent%28html_e0c5ddb4cb0444ab8c62825c1bc27d1c%29%3B%0A%20%20%20%20%20%20%20%20%20%20%20%20%0A%0A%20%20%20%20%20%20%20%20%20%20%20%20circle_marker_a5439730615a4abbb01408421ab555a8.bindPopup%28popup_3201a7fb6dd244cbb0370f8ad9ba49f0%29%3B%0A%0A%20%20%20%20%20%20%20%20%20%20%20%20%0A%20%20%20%20%20%20%20%20%0A%20%20%20%20%0A%20%20%20%20%20%20%20%20%20%20%20%20var%20circle_marker_4e2610eaf6614843bb999676983fc193%20%3D%20L.circleMarker%28%0A%20%20%20%20%20%20%20%20%20%20%20%20%20%20%20%20%5B51.5333%2C0.018266666666666667%5D%2C%0A%20%20%20%20%20%20%20%20%20%20%20%20%20%20%20%20%7B%0A%20%20%22bubblingMouseEvents%22%3A%20true%2C%0A%20%20%22color%22%3A%20%22%23ffb360%22%2C%0A%20%20%22dashArray%22%3A%20null%2C%0A%20%20%22dashOffset%22%3A%20null%2C%0A%20%20%22fill%22%3A%20true%2C%0A%20%20%22fillColor%22%3A%20%22%23ffb360%22%2C%0A%20%20%22fillOpacity%22%3A%200.7%2C%0A%20%20%22fillRule%22%3A%20%22evenodd%22%2C%0A%20%20%22lineCap%22%3A%20%22round%22%2C%0A%20%20%22lineJoin%22%3A%20%22round%22%2C%0A%20%20%22opacity%22%3A%201.0%2C%0A%20%20%22radius%22%3A%205%2C%0A%20%20%22stroke%22%3A%20true%2C%0A%20%20%22weight%22%3A%203%0A%7D%0A%20%20%20%20%20%20%20%20%20%20%20%20%20%20%20%20%29.addTo%28map_50ee46e5d4d149d3bac8e0fcb09e1477%29%3B%0A%20%20%20%20%20%20%20%20%20%20%20%20%0A%20%20%20%20%0A%20%20%20%20%20%20%20%20%20%20%20%20var%20popup_b8c4c0c9beea4ab88fb547334fb71813%20%3D%20L.popup%28%7BmaxWidth%3A%20%27300%27%7D%29%3B%0A%0A%20%20%20%20%20%20%20%20%20%20%20%20%0A%20%20%20%20%20%20%20%20%20%20%20%20%20%20%20%20var%20html_146f14aba83145d2aaafa2d291cae246%20%3D%20%24%28%27%3Cdiv%20id%3D%22html_146f14aba83145d2aaafa2d291cae246%22%20style%3D%22width%3A%20100.0%25%3B%20height%3A%20100.0%25%3B%22%3EWest%20Ham%2C%20Plaistow%2C%20Newham%20Cluster%204%3C/div%3E%27%29%5B0%5D%3B%0A%20%20%20%20%20%20%20%20%20%20%20%20%20%20%20%20popup_b8c4c0c9beea4ab88fb547334fb71813.setContent%28html_146f14aba83145d2aaafa2d291cae246%29%3B%0A%20%20%20%20%20%20%20%20%20%20%20%20%0A%0A%20%20%20%20%20%20%20%20%20%20%20%20circle_marker_4e2610eaf6614843bb999676983fc193.bindPopup%28popup_b8c4c0c9beea4ab88fb547334fb71813%29%3B%0A%0A%20%20%20%20%20%20%20%20%20%20%20%20%0A%20%20%20%20%20%20%20%20%0A%3C/script%3E onload=\"this.contentDocument.open();this.contentDocument.write(    decodeURIComponent(this.getAttribute('data-html')));this.contentDocument.close();\" allowfullscreen webkitallowfullscreen mozallowfullscreen></iframe></div></div>"
      ],
      "text/plain": [
       "<folium.folium.Map at 0x7fa624e91438>"
      ]
     },
     "execution_count": 131,
     "metadata": {},
     "output_type": "execute_result"
    }
   ],
   "source": [
    "# create map\n",
    "map_clusters_strat1 = folium.Map(location=[latitude, longitude], zoom_start=11)\n",
    "\n",
    "# set color scheme for the clusters\n",
    "x = np.arange(kclusters)\n",
    "ys = [i + x + (i*x)**2 for i in range(kclusters)]\n",
    "colors_array = cm.rainbow(np.linspace(0, 1, len(ys)))\n",
    "rainbow = [colors.rgb2hex(i) for i in colors_array]\n",
    "\n",
    "# add markers to the map\n",
    "markers_colors = []\n",
    "for lat, lon, poi, cluster in zip(strat_merged_cl5['Neighborhood Latitude'], strat_merged_cl5['Neighborhood Longitude'], strat_merged_cl5['Neighborhood'], strat_merged_cl5['Cluster Labels']):\n",
    "    label = folium.Popup(str(poi) + ' Cluster ' + str(cluster), parse_html=True)\n",
    "    folium.CircleMarker(\n",
    "        [lat, lon],\n",
    "        radius=5,\n",
    "        popup=label,q\n",
    "        color=rainbow[cluster-1],\n",
    "        fill=True,\n",
    "        fill_color=rainbow[cluster-1],\n",
    "        fill_opacity=0.7).add_to(map_clusters_strat1)\n",
    "       \n",
    "map_clusters_strat1"
   ]
  },
  {
   "cell_type": "markdown",
   "metadata": {},
   "source": [
    "### Above are the feasible locations for new **'Indian Cofee house'** business to be setup in East London considering the density of other Indian/ Asian Restaurant, coffee-shop locations in other neighborhood."
   ]
  }
 ],
 "metadata": {
  "kernelspec": {
   "display_name": "Python 3",
   "language": "python",
   "name": "python3"
  },
  "language_info": {
   "codemirror_mode": {
    "name": "ipython",
    "version": 3
   },
   "file_extension": ".py",
   "mimetype": "text/x-python",
   "name": "python",
   "nbconvert_exporter": "python",
   "pygments_lexer": "ipython3",
   "version": "3.8.5"
  }
 },
 "nbformat": 4,
 "nbformat_minor": 5
}
