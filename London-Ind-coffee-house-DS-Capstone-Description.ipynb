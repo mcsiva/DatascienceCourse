{
 "cells": [
  {
   "cell_type": "markdown",
   "metadata": {},
   "source": [
    "### Battle of the Neighborhoods - Week 1\n",
    "\n",
    "### London - Indian Coffee House - Business viability\n",
    "\n",
    "### Introduction - London City\n",
    "####  *   London is the capital and largest city of England and the United Kingdom.The city stands on the River Thames in the south-east of England, at the head of its 50-mile (80 km) estuary leading to the North Sea. \n",
    "####  *   London has been a major settlement for two millennia, and was originally called Londinium, which was founded by the Romans. The City of London, London's ancient core and financial centre—an area of just 1.12 square miles (2.9 km2) and colloquially known as the Square Mile—retains boundaries that closely follow its medieval limits\n",
    "#### * London's gross regional product in 2018 was almost £500 billion, around a quarter of UK GDP. London has five major business districts: the city, Westminster, Canary Wharf, Camden & Islington and Lambeth & Southwark\n",
    "####  *   London has a diverse range of people and cultures, and more than 300 languages are spoken in the region.\n",
    "#### *   British Indians form the largest ethno-national group in London with a population of around 542,857 or 6.6% of the population. The majority are concentrated in West London, though populations can be found throughout London.\n",
    "\n",
    "### Major Coffee Houses in London:\n",
    "#### * As per CNN Traveller below are some of the best coffee houses in London:\n",
    "#### * https://www.cntraveller.com/gallery/best-coffee-in-london\n",
    "##### They include: MONMOUTH COFFEE COMPANY - COVENT GARDEN; ORIGIN - SHOREDITCH; ORIGIN, SHOREDITCH; FLYING HORSE-COFFEE AT MARE STREET MARKET\n",
    "\n",
    "### Problem Description\n",
    "\n",
    "#### * For Indian Coffee house Business to survive and Grow, we need to analyse below points to decide on the location:\n",
    "####  *   -Indian population distribution in London based on demogrphic maps\n",
    "####  *   -to explore Restaurants, coffee shops in those neighborhoods\n",
    "####  *   -The Indian/Asian restaurants count and locations in those neighborhoods\n",
    "\n",
    "### Target audience\n",
    "\n",
    "#### * ABC Inc., have given the activity to me as Lead Datascientist for exploring and finding the best location in East London to open a new Coffee Shop that is based on Indian food/culture\n",
    "\n",
    "### Success criteria\n",
    "#### *  To find the best location for Indian Coffee Shop to be opened in East London based on lack of similar restaurants/shops in the neighborhood and proximity from similar shops in other neighborhoods.\n",
    "\n",
    "### Data Collection:\n",
    "##### We will be using various datasets from below data sources for achieving the above success criteria:\n",
    "#### * Datasource1: *Wikipedia* \n",
    "##### - source for population numbers and density based on Ethinicity \n",
    "##### - postal codes for each of the neighborhoods in each location\n",
    "\n",
    "#### * Datasource2: *FourSquare*\n",
    "##### - App containing various venues and details at each neighborhood in each of the locations - API that retrieves several details to get each information based on request sent\n",
    "\n",
    "#### * Datasource3: *PGEOCODE* - python library\n",
    "##### - Python library that retrieves Lat Longs for each of the postcodes - which in turn can be sent to Foursquare for data collection\n"
   ]
  }
 ],
 "metadata": {
  "kernelspec": {
   "display_name": "Python 3",
   "language": "python",
   "name": "python3"
  },
  "language_info": {
   "codemirror_mode": {
    "name": "ipython",
    "version": 3
   },
   "file_extension": ".py",
   "mimetype": "text/x-python",
   "name": "python",
   "nbconvert_exporter": "python",
   "pygments_lexer": "ipython3",
   "version": "3.8.5"
  }
 },
 "nbformat": 4,
 "nbformat_minor": 5
}
