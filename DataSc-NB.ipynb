{
 "cells": [
  {
   "cell_type": "code",
   "execution_count": 3,
   "metadata": {},
   "outputs": [
    {
     "name": "stdout",
     "output_type": "stream",
     "text": [
      "iteration: 0 sum square 2\n",
      "iteration: 1 sum square 6\n",
      "iteration: 2 sum square 42\n",
      "iteration: 3 sum square 1806\n",
      "iteration: 4 sum square 3263442\n"
     ]
    }
   ],
   "source": [
    "# import libraries\n",
    "import pandas as pd\n",
    "import numpy as np\n",
    "\n",
    "def add_sq(range_val):\n",
    "    j = 1\n",
    "    for i in range(0, range_val):\n",
    "        j = j + j**2\n",
    "        print(\"iteration:\", i , \"sum square\", j)\n",
    "        j+1\n",
    "\n",
    "add_sq(5)"
   ]
  }
 ],
 "metadata": {
  "kernelspec": {
   "display_name": "Python 3",
   "language": "python",
   "name": "python3"
  },
  "language_info": {
   "codemirror_mode": {
    "name": "ipython",
    "version": 3
   },
   "file_extension": ".py",
   "mimetype": "text/x-python",
   "name": "python",
   "nbconvert_exporter": "python",
   "pygments_lexer": "ipython3",
   "version": "3.8.5"
  }
 },
 "nbformat": 4,
 "nbformat_minor": 4
}
